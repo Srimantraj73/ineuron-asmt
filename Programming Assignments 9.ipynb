{
 "cells": [
  {
   "cell_type": "markdown",
   "id": "665d884e",
   "metadata": {},
   "source": [
    "# Programming Assignment 9"
   ]
  },
  {
   "cell_type": "code",
   "execution_count": null,
   "id": "5b446250",
   "metadata": {},
   "outputs": [],
   "source": [
    "Write a Python program to check if the given number is a Disarium Number?"
   ]
  },
  {
   "cell_type": "code",
   "execution_count": null,
   "id": "145771c7",
   "metadata": {},
   "outputs": [],
   "source": [
    "num = input(\"Enter user input: \")\n",
    "power = len(num)\n",
    "temp = int(num)\n",
    "summ = 0\n",
    "while temp!=0:\n",
    "        x=temp%10\n",
    "       # print('x',x)\n",
    "        summ = summ + x**power\n",
    "       # print(\"summ\",x,summ)\n",
    "        temp=temp//10\n",
    "        power = power - 1\n",
    "if summ == int(num):       \n",
    "    print(\"Disarium num found :\", num)\n",
    "else: print(\"Disarium not found\")"
   ]
  },
  {
   "cell_type": "code",
   "execution_count": null,
   "id": "587396d1",
   "metadata": {},
   "outputs": [],
   "source": [
    "Write a Python program to print all disarium numbers between 1 to 100?"
   ]
  },
  {
   "cell_type": "code",
   "execution_count": 3,
   "id": "44cee062",
   "metadata": {},
   "outputs": [
    {
     "name": "stdout",
     "output_type": "stream",
     "text": [
      "Disarium num found btn 1-100 : 1\n",
      "Disarium num found btn 1-100 : 2\n",
      "Disarium num found btn 1-100 : 3\n",
      "Disarium num found btn 1-100 : 4\n",
      "Disarium num found btn 1-100 : 5\n",
      "Disarium num found btn 1-100 : 6\n",
      "Disarium num found btn 1-100 : 7\n",
      "Disarium num found btn 1-100 : 8\n",
      "Disarium num found btn 1-100 : 9\n",
      "Disarium num found btn 1-100 : 89\n"
     ]
    }
   ],
   "source": [
    "for i in range(1,101):\n",
    "        num = str(i)\n",
    "        power = len(num)\n",
    "        temp = int(num)\n",
    "        summ = 0\n",
    "        while temp!=0:\n",
    "                x=temp%10\n",
    "                summ = summ + x**power\n",
    "                temp=temp//10\n",
    "                power = power - 1\n",
    "        if summ == int(num):\n",
    "            print(\"Disarium num found btn 1-100 :\", num)"
   ]
  },
  {
   "cell_type": "code",
   "execution_count": null,
   "id": "d0ced04d",
   "metadata": {},
   "outputs": [],
   "source": [
    "Write a Python program to check if the given number is Happy Number?"
   ]
  },
  {
   "cell_type": "code",
   "execution_count": null,
   "id": "ae03949f",
   "metadata": {},
   "outputs": [],
   "source": [
    "def summsquare(temp):\n",
    "    summ = 0\n",
    "    while temp!=0:\n",
    "        x=temp%10\n",
    "        summ = summ + x**2\n",
    "        temp=temp//10\n",
    "    return summ \n",
    "\n",
    "n = int(input(\"Enter value :\"))\n",
    "num = n\n",
    "seen = []\n",
    "seen.append(n)\n",
    "x = False\n",
    "while summsquare(n) not in seen:\n",
    "      sumreturned = summsquare(n)\n",
    "        if sumreturned == 1:\n",
    "            print(\"Happy no. Found\",num)\n",
    "            x = True\n",
    "            break\n",
    "        else:\n",
    "            seen.append(sumreturned)\n",
    "            n = sumreturned\n",
    "if x == False:\n",
    "    print(\"Not a Happy number\", num)"
   ]
  },
  {
   "cell_type": "code",
   "execution_count": null,
   "id": "864a49a4",
   "metadata": {},
   "outputs": [],
   "source": [
    "Write a Python program to print all happy numbers between 1 and 100?"
   ]
  },
  {
   "cell_type": "code",
   "execution_count": null,
   "id": "2e1481f9",
   "metadata": {},
   "outputs": [],
   "source": [
    "def summsquare(temp):\n",
    "    summ = 0\n",
    "    while temp!=0:\n",
    "            x=temp%10\n",
    "            summ = summ + x**2\n",
    "            temp=temp//10\n",
    "    return summ \n",
    "\n",
    "#n = int(input(\"Enter value :\"))\n",
    "for i in range(1,101):\n",
    "    num = i\n",
    "    seen = []\n",
    "    seen.append(i)\n",
    "    while summsquare(i) not in seen:\n",
    "        sumreturned = summsquare(i)\n",
    "        if sumreturned == 1:\n",
    "            print(\"Happy no. Found\",num)\n",
    "            break\n",
    "        else:\n",
    "            seen.append(sumreturned)\n",
    "            i = sumreturned"
   ]
  },
  {
   "cell_type": "code",
   "execution_count": null,
   "id": "a836fda5",
   "metadata": {},
   "outputs": [],
   "source": [
    "Write a Python program to determine whether the given number is a Harshad Number?"
   ]
  },
  {
   "cell_type": "code",
   "execution_count": null,
   "id": "688d4c8f",
   "metadata": {},
   "outputs": [],
   "source": [
    "def summdigit(temp):\n",
    "    summ = 0\n",
    "    while temp!=0:\n",
    "        x=temp%10\n",
    "        summ = summ + x\n",
    "        temp=temp//10\n",
    "    return summ \n",
    "\n",
    "n = int(input(\"Enter value :\"))\n",
    "s = summdigit(n)\n",
    "if n%s==0:\n",
    "     print(\"Harshad no. Found\",n)\n",
    "else:\n",
    "     print(\"the no. is not Harshad\",n)"
   ]
  },
  {
   "cell_type": "code",
   "execution_count": null,
   "id": "c1f1c47a",
   "metadata": {},
   "outputs": [],
   "source": [
    "Write a Python program to print all pronic numbers between 1 and 100?"
   ]
  },
  {
   "cell_type": "code",
   "execution_count": null,
   "id": "ceb53d25",
   "metadata": {},
   "outputs": [],
   "source": [
    "def summdigit(temp):\n",
    "    summ = 0\n",
    "    while temp!=0:\n",
    "        x=temp%10\n",
    "        summ = summ + x\n",
    "        temp=temp//10\n",
    "    return summ \n",
    "\n",
    "#n = int(input(\"Enter value :\"))\n",
    "for i in range(1,101):\n",
    "    num = i\n",
    "    s = summdigit(i)\n",
    "    if i%s==0:\n",
    "        print(\"Harshad no. Found\",i)"
   ]
  }
 ],
 "metadata": {
  "kernelspec": {
   "display_name": "Python 3 (ipykernel)",
   "language": "python",
   "name": "python3"
  },
  "language_info": {
   "codemirror_mode": {
    "name": "ipython",
    "version": 3
   },
   "file_extension": ".py",
   "mimetype": "text/x-python",
   "name": "python",
   "nbconvert_exporter": "python",
   "pygments_lexer": "ipython3",
   "version": "3.9.7"
  }
 },
 "nbformat": 4,
 "nbformat_minor": 5
}
