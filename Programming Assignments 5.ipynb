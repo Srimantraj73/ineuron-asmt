{
 "cells": [
  {
   "cell_type": "markdown",
   "id": "eee446b4",
   "metadata": {},
   "source": [
    "# Programming Assignments 5"
   ]
  },
  {
   "cell_type": "code",
   "execution_count": null,
   "id": "d5156e52",
   "metadata": {},
   "outputs": [],
   "source": [
    "Write a Python Program to Find LCM?"
   ]
  },
  {
   "cell_type": "code",
   "execution_count": 2,
   "id": "2fad1a36",
   "metadata": {},
   "outputs": [
    {
     "name": "stdout",
     "output_type": "stream",
     "text": [
      "Enter your input 1 -10\n",
      "Enter your input 2 -5\n",
      "LCM is  10\n"
     ]
    }
   ],
   "source": [
    "num1 = int(input(\"Enter your input 1 -\"))\n",
    "num2 = int(input(\"Enter your input 2 -\"))\n",
    "\n",
    "if num1 > num2:\n",
    "    greater = num1\n",
    "else:\n",
    "    greater = num2\n",
    "while(True):\n",
    "    if(greater%num1 == 0)and(greater%num2 == 0):\n",
    "        LCM = greater\n",
    "        break\n",
    "    greater = greater + 1\n",
    "print(\"LCM is \", greater)\n",
    "    "
   ]
  },
  {
   "cell_type": "code",
   "execution_count": null,
   "id": "00395f9b",
   "metadata": {},
   "outputs": [],
   "source": [
    "Write a Python Program to Find HCF?"
   ]
  },
  {
   "cell_type": "code",
   "execution_count": 9,
   "id": "ddbd1c78",
   "metadata": {},
   "outputs": [],
   "source": [
    "def GCD(a,b):\n",
    "    if b == 0:\n",
    "        return a\n",
    "    else:\n",
    "        return GCD(b,a%b)"
   ]
  },
  {
   "cell_type": "code",
   "execution_count": 10,
   "id": "71b28461",
   "metadata": {},
   "outputs": [
    {
     "name": "stdout",
     "output_type": "stream",
     "text": [
      "enter num1 :18\n",
      "enter num2 :4\n",
      "2\n"
     ]
    }
   ],
   "source": [
    "num1 = int(input(\"enter num1 :\"))\n",
    "num2 = int(input(\"enter num2 :\"))\n",
    "HCF = GCD(num1,num2)\n",
    "print(HCF)"
   ]
  },
  {
   "cell_type": "code",
   "execution_count": null,
   "id": "0e10b1a9",
   "metadata": {},
   "outputs": [],
   "source": [
    "Write a Python Program to Convert Decimal to Binary, Octal and Hexadecimal?"
   ]
  },
  {
   "cell_type": "code",
   "execution_count": null,
   "id": "5e0fc3e2",
   "metadata": {},
   "outputs": [],
   "source": [
    "d = int(input(\"Enter decimal value: \"))\n",
    "print(\"The decimal value of\", d, \"is:\")\n",
    "print(bin(d), \"in binary.\")\n",
    "print(oct(d), \"in octal.\")\n",
    "print(hex(d), \"in hexadecimal.\")"
   ]
  },
  {
   "cell_type": "code",
   "execution_count": null,
   "id": "e33487eb",
   "metadata": {},
   "outputs": [],
   "source": [
    "Write a Python Program To Find ASCII value of a character?"
   ]
  },
  {
   "cell_type": "code",
   "execution_count": null,
   "id": "df6db7ae",
   "metadata": {},
   "outputs": [],
   "source": [
    "ch = input(\"Enter the character A-Z,a-z: \")\n",
    "print(\"The ASCII value of '\" + ch + \"' is\", ord(ch))"
   ]
  },
  {
   "cell_type": "code",
   "execution_count": null,
   "id": "99335928",
   "metadata": {},
   "outputs": [],
   "source": [
    "Write a Python Program to Make a Simple Calculator with 4 basic mathematical operations?"
   ]
  },
  {
   "cell_type": "code",
   "execution_count": null,
   "id": "7d8e5d99",
   "metadata": {},
   "outputs": [],
   "source": [
    "def add(a,b):\n",
    "      try:\n",
    "        s = a + b\n",
    "        return s\n",
    "      except:\n",
    "        print(\"Incorrect sum\")\n",
    "def substract(a,b):\n",
    "    s = a - b\n",
    "    return s\n",
    "def multiply(a,b):\n",
    "    s = a * b\n",
    "    return s\n",
    "def divide(a,b):\n",
    "    try:\n",
    "        s = a/b\n",
    "        return s\n",
    "    except ZeroDivisionError:\n",
    "        print(\"Trying to divide by zero\")\n",
    "def userinput():\n",
    "    option = int(input(\"Enter '1' for sum :\\nEnter '2' for     substraction :\\nEnter '3' for multiply :\\nEnter '4' for division :\\nEnter '5' for finish\"))\n",
    "    return option\n",
    "def breakout():\n",
    "    print(\"Thank you\")\n",
    "    break\n",
    "\n",
    "try:\n",
    "    x = int(input(\"Enter first no: \"))\n",
    "    y = int(input(\"Enter second no: \"))\n",
    "    aa = userinput()\n",
    "    if aa == 1:\n",
    "        sum = add(x,y)\n",
    "        print(\"sum of number - \",sum)\n",
    "    elif aa == 2:\n",
    "        sub = substract(x,y)\n",
    "        print(\"sub of number - \",sub)\n",
    "    elif aa == 3:\n",
    "        mul = multiply(x,y)\n",
    "        print(\"mul of number - \",mul)\n",
    "    elif aa == 4:\n",
    "        div = divide(x,y)\n",
    "        print(\"divide of number - \",div)\n",
    "    elif aa == 5:\n",
    "        print(\"Thank YOu\") \n",
    "        breakout()\n",
    "    else:\n",
    "        print(\"Wrong input\")\n",
    "except Exception as e:\n",
    "    print(\"Enter a string value\",e)\n",
    "  \n",
    "    "
   ]
  },
  {
   "cell_type": "markdown",
   "id": "d674ed53",
   "metadata": {},
   "source": [
    "# Programming Assignment 6"
   ]
  },
  {
   "cell_type": "code",
   "execution_count": null,
   "id": "312bee7c",
   "metadata": {},
   "outputs": [],
   "source": [
    "Write a Python Program to Display Fibonacci Sequence Using Recursion?"
   ]
  },
  {
   "cell_type": "code",
   "execution_count": 3,
   "id": "e1eed1f0",
   "metadata": {},
   "outputs": [
    {
     "name": "stdout",
     "output_type": "stream",
     "text": [
      "enter a number for fibo sequence: 5\n",
      "0\n",
      "1\n",
      "1\n",
      "2\n",
      "3\n"
     ]
    }
   ],
   "source": [
    "def fibonacci(n):\n",
    "    if n <= 1:\n",
    "        return n\n",
    "    else:\n",
    "        return fibonacci(n - 1) + fibonacci(n - 2)\n",
    "num = int(input(\"enter a number for fibo sequence: \"))\n",
    "for i in range(num):\n",
    "    print(fibonacci(i))"
   ]
  },
  {
   "cell_type": "code",
   "execution_count": null,
   "id": "30200f82",
   "metadata": {},
   "outputs": [],
   "source": [
    "Write a Python Program to Find Factorial of Number Using Recursion?"
   ]
  },
  {
   "cell_type": "code",
   "execution_count": 6,
   "id": "07c0b4c8",
   "metadata": {},
   "outputs": [
    {
     "name": "stdout",
     "output_type": "stream",
     "text": [
      "enter a number for factorial : 5\n",
      "120\n"
     ]
    }
   ],
   "source": [
    "def factorial(n):\n",
    "    if n == 1:\n",
    "        return n\n",
    "    else:\n",
    "        return n * factorial(n - 1)\n",
    "num = int(input(\"enter a number for factorial : \"))\n",
    "if num == 0:\n",
    "    print(\"factorial of 0 is: %d\"%1 )\n",
    "else:\n",
    "    for i in range(1, num+1):\n",
    "             fact = factorial(i)\n",
    "print(fact)"
   ]
  },
  {
   "cell_type": "code",
   "execution_count": null,
   "id": "2bbc3091",
   "metadata": {},
   "outputs": [],
   "source": [
    "Write a Python Program to calculate your Body Mass Index?"
   ]
  },
  {
   "cell_type": "code",
   "execution_count": 16,
   "id": "b4905b77",
   "metadata": {},
   "outputs": [
    {
     "name": "stdout",
     "output_type": "stream",
     "text": [
      "enter weight of the body :76\n",
      "enter height of the body in meters :1.7\n",
      "the BMI of the body is :26.30\n",
      "overweight\n"
     ]
    }
   ],
   "source": [
    "weight = float(input(\"enter weight of the body :\")) \n",
    "height =float(input(\"enter height of the body in meters :\"))\n",
    "BMI = weight/(height**2)\n",
    "print(\"the BMI of the body is :%0.2f\"%BMI)\n",
    "if(BMI < 18.5):\n",
    "        print(\"underweight\")\n",
    " \n",
    "elif( BMI >= 18.5 and BMI < 24.9):\n",
    "        print(\"Healthy\")\n",
    " \n",
    "elif( BMI >= 24.9 and BMI < 30):\n",
    "        print(\"overweight\")\n",
    " \n",
    "elif( BMI >=30):\n",
    "        print(\"Suffering from Obesity\")\n"
   ]
  },
  {
   "cell_type": "code",
   "execution_count": null,
   "id": "9ffe7f81",
   "metadata": {},
   "outputs": [],
   "source": [
    "Write a Python Program to calculate the natural logarithm of any number?"
   ]
  },
  {
   "cell_type": "code",
   "execution_count": null,
   "id": "cc83d1f1",
   "metadata": {},
   "outputs": [],
   "source": [
    "import numpy as np\n",
    "a = [1,2,3,10,20,30]\n",
    "print(np.log(a))\n",
    "print(np.log(10))"
   ]
  },
  {
   "cell_type": "code",
   "execution_count": null,
   "id": "4e1b6de5",
   "metadata": {},
   "outputs": [],
   "source": [
    "Write a Python Program for cube sum of first n natural numbers?"
   ]
  },
  {
   "cell_type": "code",
   "execution_count": null,
   "id": "c87df8cb",
   "metadata": {},
   "outputs": [],
   "source": [
    "def sumnum(n):\n",
    "    cubesum = 0\n",
    "    for i in range(1,n+1):\n",
    "        cubesum = cubesum + i**3\n",
    "    return cubesum\n",
    "num = int(input(\"Enter Nth Natural No: \"))\n",
    "summer = sumnum(num)\n",
    "print(\"%d is the sum of cube of first %d natural no.\"%(summer,num))\n"
   ]
  },
  {
   "cell_type": "markdown",
   "id": "97f9ec9e",
   "metadata": {},
   "source": [
    "# Programming Assignment 7"
   ]
  },
  {
   "cell_type": "code",
   "execution_count": null,
   "id": "c7684ea6",
   "metadata": {},
   "outputs": [],
   "source": [
    "Write a Python Program to find sum of array?"
   ]
  },
  {
   "cell_type": "code",
   "execution_count": null,
   "id": "15dca3f4",
   "metadata": {},
   "outputs": [],
   "source": [
    "def sumnum(num):\n",
    "    summ = 0\n",
    "    for i in num:\n",
    "        summ = i + summ\n",
    "    return summ\n",
    "number = [100, 200, 300, 10, 111, 1000]\n",
    "summer = sumnum(number)\n",
    "print(\"%d is the summation of list\"%(summer))"
   ]
  },
  {
   "cell_type": "code",
   "execution_count": null,
   "id": "23a4e67b",
   "metadata": {},
   "outputs": [],
   "source": [
    "Write a Python Program to find largest element in an array?"
   ]
  },
  {
   "cell_type": "code",
   "execution_count": null,
   "id": "bd750af7",
   "metadata": {},
   "outputs": [],
   "source": [
    "number = [100, 200, 300, 10, 111, 1000]\n",
    "largest_number = number[0]\n",
    "for i in number:\n",
    "    if i > largest_number:\n",
    "        largest_number = i\n",
    "print(largest_number)"
   ]
  },
  {
   "cell_type": "code",
   "execution_count": null,
   "id": "03d9a5d2",
   "metadata": {},
   "outputs": [],
   "source": [
    "Write a Python Program for array rotation?"
   ]
  },
  {
   "cell_type": "code",
   "execution_count": null,
   "id": "0f84490e",
   "metadata": {},
   "outputs": [],
   "source": [
    "def rotate(arr,d):\n",
    "    n = len(arr)\n",
    "    temp = []\n",
    "    for i in range(d,n+1):\n",
    "          temp.append(i)\n",
    "    for i in range(0,d):\n",
    "          temp.append(i)\n",
    "    return temp\n",
    "arr = [1,2,3,4,5,6]\n",
    "rot = rotate(arr,2)\n",
    "print(rot)"
   ]
  },
  {
   "cell_type": "code",
   "execution_count": null,
   "id": "b8b8bf3f",
   "metadata": {},
   "outputs": [],
   "source": [
    "Write a Python Program to Split the array and add the first part to the end?"
   ]
  },
  {
   "cell_type": "code",
   "execution_count": null,
   "id": "48558ed9",
   "metadata": {},
   "outputs": [],
   "source": [
    "a = [1,2,3,10,20,30]\n",
    "length = len(a)\n",
    "half = int(length/2)\n",
    "print(length,half)\n",
    "x = []\n",
    "if (length % 2 == 0):\n",
    "    for i in range(0,half):\n",
    "        sum = a[i] + a[i + half]\n",
    "        x.append(sum)\n",
    "    print(x)\n",
    "else:\n",
    "    print(\"array is odd , add 1 more element to array\")"
   ]
  },
  {
   "cell_type": "code",
   "execution_count": null,
   "id": "0b8640d8",
   "metadata": {},
   "outputs": [],
   "source": [
    "Write a Python Program to check if given array is Monotonic?"
   ]
  },
  {
   "cell_type": "code",
   "execution_count": null,
   "id": "f208c258",
   "metadata": {},
   "outputs": [],
   "source": [
    "def mono(a):\n",
    "  \n",
    "    return (all(a[i] <= a[i + 1] for i in range(len(a) - 1)) or\n",
    "            all(a[i] >= a[i + 1] for i in range(len(a) - 1)))\n",
    "b = [1, 3, 44, 54]\n",
    "print(mono(b))"
   ]
  },
  {
   "cell_type": "markdown",
   "id": "3c9c27cc",
   "metadata": {},
   "source": [
    "# Programming Assignment 8"
   ]
  },
  {
   "cell_type": "code",
   "execution_count": null,
   "id": "7c119c90",
   "metadata": {},
   "outputs": [],
   "source": [
    "Write a Python Program to Add Two Matrices?"
   ]
  },
  {
   "cell_type": "code",
   "execution_count": null,
   "id": "1697566a",
   "metadata": {},
   "outputs": [],
   "source": [
    "x= [[1,1,1],[2,2,2],[3,3,3]]\n",
    "y= [[1,1,1],[2,2,2],[3,3,3]]\n",
    "sum= [[0,0,0],[0,0,0],[0,0,0]]\n",
    "for i in range(len(x)):\n",
    "    for j in range(len(x[0])):\n",
    "        sum[i][j] =  x[i][j] + y[i][j]\n",
    "print(sum)"
   ]
  },
  {
   "cell_type": "code",
   "execution_count": null,
   "id": "b1556cd3",
   "metadata": {},
   "outputs": [],
   "source": [
    "Write a Python Program to Multiply Two Matrices?"
   ]
  },
  {
   "cell_type": "code",
   "execution_count": null,
   "id": "b7018201",
   "metadata": {},
   "outputs": [],
   "source": [
    "x= [[1,1,1],[2,2,2],[3,3,3]]\n",
    "y= [[1,1,1],[2,2,2],[3,3,3]]\n",
    "pdt= [[1,1,1],[1,1,1],[1,1,1]]\n",
    "for i in range(len(x)):\n",
    "    for j in range(len(x[0])):\n",
    "        pdt[i][j] =  x[i][j] * y[i][j]\n",
    "print(pdt)"
   ]
  },
  {
   "cell_type": "code",
   "execution_count": null,
   "id": "e939383d",
   "metadata": {},
   "outputs": [],
   "source": [
    "Write a Python Program to Transpose a Matrix?"
   ]
  },
  {
   "cell_type": "code",
   "execution_count": null,
   "id": "4b74f51f",
   "metadata": {},
   "outputs": [],
   "source": [
    "x= [[1,1],\n",
    "    [2,2],\n",
    "    [3,3]]\n",
    "pdt= [[0,0,0],[0,0,0]]\n",
    "for i in range(len(x)):\n",
    "    for j in range(len(x[0])):\n",
    "        pdt[j][i] =  x[i][j] \n",
    "print(pdt)"
   ]
  },
  {
   "cell_type": "code",
   "execution_count": null,
   "id": "5e6cda99",
   "metadata": {},
   "outputs": [],
   "source": [
    "Write a Python Program to Sort Words in Alphabetic Order?"
   ]
  },
  {
   "cell_type": "code",
   "execution_count": null,
   "id": "c8f027da",
   "metadata": {},
   "outputs": [],
   "source": [
    "x = ['this','is','a','cat']\n",
    "x.sort()\n",
    "print(x)"
   ]
  },
  {
   "cell_type": "code",
   "execution_count": null,
   "id": "7b1f7811",
   "metadata": {},
   "outputs": [],
   "source": [
    "Write a Python Program to Remove Punctuation From a String?"
   ]
  },
  {
   "cell_type": "code",
   "execution_count": null,
   "id": "e16b4d8a",
   "metadata": {},
   "outputs": [],
   "source": [
    "pun = '''!()-[]{};:'\"\\,<>./?@#$%^&*_~'''\n",
    "string = \"This is [] ,<>my?@wo#rld\"\n",
    "new_string = ' '\n",
    "for i in string:\n",
    "    if i not in pun:\n",
    "         new_string = new_string + i\n",
    "print(new_string)"
   ]
  },
  {
   "cell_type": "markdown",
   "id": "665d884e",
   "metadata": {},
   "source": [
    "# Programming Assignment 9"
   ]
  },
  {
   "cell_type": "code",
   "execution_count": null,
   "id": "5b446250",
   "metadata": {},
   "outputs": [],
   "source": [
    "Write a Python program to check if the given number is a Disarium Number?"
   ]
  },
  {
   "cell_type": "code",
   "execution_count": null,
   "id": "145771c7",
   "metadata": {},
   "outputs": [],
   "source": [
    "num = input(\"Enter user input: \")\n",
    "power = len(num)\n",
    "temp = int(num)\n",
    "summ = 0\n",
    "while temp!=0:\n",
    "        x=temp%10\n",
    "       # print('x',x)\n",
    "        summ = summ + x**power\n",
    "       # print(\"summ\",x,summ)\n",
    "        temp=temp//10\n",
    "        power = power - 1\n",
    "if summ == int(num):       \n",
    "    print(\"Disarium num found :\", num)\n",
    "else: print(\"Disarium not found\")"
   ]
  },
  {
   "cell_type": "code",
   "execution_count": null,
   "id": "587396d1",
   "metadata": {},
   "outputs": [],
   "source": [
    "Write a Python program to print all disarium numbers between 1 to 100?"
   ]
  },
  {
   "cell_type": "code",
   "execution_count": 3,
   "id": "44cee062",
   "metadata": {},
   "outputs": [
    {
     "name": "stdout",
     "output_type": "stream",
     "text": [
      "Disarium num found btn 1-100 : 1\n",
      "Disarium num found btn 1-100 : 2\n",
      "Disarium num found btn 1-100 : 3\n",
      "Disarium num found btn 1-100 : 4\n",
      "Disarium num found btn 1-100 : 5\n",
      "Disarium num found btn 1-100 : 6\n",
      "Disarium num found btn 1-100 : 7\n",
      "Disarium num found btn 1-100 : 8\n",
      "Disarium num found btn 1-100 : 9\n",
      "Disarium num found btn 1-100 : 89\n"
     ]
    }
   ],
   "source": [
    "for i in range(1,101):\n",
    "        num = str(i)\n",
    "        power = len(num)\n",
    "        temp = int(num)\n",
    "        summ = 0\n",
    "        while temp!=0:\n",
    "                x=temp%10\n",
    "                summ = summ + x**power\n",
    "                temp=temp//10\n",
    "                power = power - 1\n",
    "        if summ == int(num):\n",
    "            print(\"Disarium num found btn 1-100 :\", num)"
   ]
  },
  {
   "cell_type": "code",
   "execution_count": null,
   "id": "d0ced04d",
   "metadata": {},
   "outputs": [],
   "source": [
    "Write a Python program to check if the given number is Happy Number?"
   ]
  },
  {
   "cell_type": "code",
   "execution_count": null,
   "id": "ae03949f",
   "metadata": {},
   "outputs": [],
   "source": [
    "def summsquare(temp):\n",
    "    summ = 0\n",
    "    while temp!=0:\n",
    "        x=temp%10\n",
    "        summ = summ + x**2\n",
    "        temp=temp//10\n",
    "    return summ \n",
    "\n",
    "n = int(input(\"Enter value :\"))\n",
    "num = n\n",
    "seen = []\n",
    "seen.append(n)\n",
    "x = False\n",
    "while summsquare(n) not in seen:\n",
    "      sumreturned = summsquare(n)\n",
    "        if sumreturned == 1:\n",
    "            print(\"Happy no. Found\",num)\n",
    "            x = True\n",
    "            break\n",
    "        else:\n",
    "            seen.append(sumreturned)\n",
    "            n = sumreturned\n",
    "if x == False:\n",
    "    print(\"Not a Happy number\", num)"
   ]
  },
  {
   "cell_type": "code",
   "execution_count": null,
   "id": "864a49a4",
   "metadata": {},
   "outputs": [],
   "source": [
    "Write a Python program to print all happy numbers between 1 and 100?"
   ]
  },
  {
   "cell_type": "code",
   "execution_count": null,
   "id": "2e1481f9",
   "metadata": {},
   "outputs": [],
   "source": [
    "def summsquare(temp):\n",
    "    summ = 0\n",
    "    while temp!=0:\n",
    "            x=temp%10\n",
    "            summ = summ + x**2\n",
    "            temp=temp//10\n",
    "    return summ \n",
    "\n",
    "#n = int(input(\"Enter value :\"))\n",
    "for i in range(1,101):\n",
    "    num = i\n",
    "    seen = []\n",
    "    seen.append(i)\n",
    "    while summsquare(i) not in seen:\n",
    "        sumreturned = summsquare(i)\n",
    "        if sumreturned == 1:\n",
    "            print(\"Happy no. Found\",num)\n",
    "            break\n",
    "        else:\n",
    "            seen.append(sumreturned)\n",
    "            i = sumreturned"
   ]
  },
  {
   "cell_type": "code",
   "execution_count": null,
   "id": "a836fda5",
   "metadata": {},
   "outputs": [],
   "source": [
    "Write a Python program to determine whether the given number is a Harshad Number?"
   ]
  },
  {
   "cell_type": "code",
   "execution_count": null,
   "id": "688d4c8f",
   "metadata": {},
   "outputs": [],
   "source": [
    "def summdigit(temp):\n",
    "    summ = 0\n",
    "    while temp!=0:\n",
    "        x=temp%10\n",
    "        summ = summ + x\n",
    "        temp=temp//10\n",
    "    return summ \n",
    "\n",
    "n = int(input(\"Enter value :\"))\n",
    "s = summdigit(n)\n",
    "if n%s==0:\n",
    "     print(\"Harshad no. Found\",n)\n",
    "else:\n",
    "     print(\"the no. is not Harshad\",n)"
   ]
  },
  {
   "cell_type": "code",
   "execution_count": null,
   "id": "c1f1c47a",
   "metadata": {},
   "outputs": [],
   "source": [
    "Write a Python program to print all pronic numbers between 1 and 100?"
   ]
  },
  {
   "cell_type": "code",
   "execution_count": null,
   "id": "ceb53d25",
   "metadata": {},
   "outputs": [],
   "source": [
    "def summdigit(temp):\n",
    "    summ = 0\n",
    "    while temp!=0:\n",
    "        x=temp%10\n",
    "        summ = summ + x\n",
    "        temp=temp//10\n",
    "    return summ \n",
    "\n",
    "#n = int(input(\"Enter value :\"))\n",
    "for i in range(1,101):\n",
    "    num = i\n",
    "    s = summdigit(i)\n",
    "    if i%s==0:\n",
    "        print(\"Harshad no. Found\",i)"
   ]
  },
  {
   "cell_type": "markdown",
   "id": "f0967a66",
   "metadata": {},
   "source": [
    "# Programming Assignment 10"
   ]
  },
  {
   "cell_type": "code",
   "execution_count": null,
   "id": "bd1ed73f",
   "metadata": {},
   "outputs": [],
   "source": [
    "Write a Python program to find sum of elements in list?"
   ]
  },
  {
   "cell_type": "code",
   "execution_count": null,
   "id": "03ee481d",
   "metadata": {},
   "outputs": [],
   "source": [
    "def sumnum(num):\n",
    "    summ = 0\n",
    "    for i in num:\n",
    "        summ = i + summ\n",
    "    return summ\n",
    "number = [100, 200, 300, 10, 111, 1000]\n",
    "summer = sumnum(number)\n",
    "print(\"%d is the summation of list\"%(summer))"
   ]
  },
  {
   "cell_type": "code",
   "execution_count": null,
   "id": "a752ebb0",
   "metadata": {},
   "outputs": [],
   "source": [
    "Write a Python program to Multiply all numbers in the list?"
   ]
  },
  {
   "cell_type": "code",
   "execution_count": null,
   "id": "21f04b79",
   "metadata": {},
   "outputs": [],
   "source": [
    "def multiplynum(num):\n",
    "    multiply = 1\n",
    "    for i in num:\n",
    "         multiply = i * multiply\n",
    "    return multiply\n",
    "number = [100, 200, 300, 10, 111, 1000]\n",
    "mul = multiplynum(number)\n",
    "print(\"%d is the multiplication of list\"%(mul))"
   ]
  },
  {
   "cell_type": "code",
   "execution_count": null,
   "id": "a67218c3",
   "metadata": {},
   "outputs": [],
   "source": [
    "Write a Python program to find smallest number in a list?"
   ]
  },
  {
   "cell_type": "code",
   "execution_count": null,
   "id": "8a18f8de",
   "metadata": {},
   "outputs": [],
   "source": [
    "number = [100, 200, 300, 10,10, 111, 1000]\n",
    "smallest_number = number[0]\n",
    "for i in number:\n",
    "    if i < smallest_number:\n",
    "        smallest_number = i\n",
    "print(smallest_number)"
   ]
  },
  {
   "cell_type": "code",
   "execution_count": null,
   "id": "11f6ae69",
   "metadata": {},
   "outputs": [],
   "source": [
    "Write a Python program to find largest number in a list?"
   ]
  },
  {
   "cell_type": "code",
   "execution_count": null,
   "id": "5abcb9cf",
   "metadata": {},
   "outputs": [],
   "source": [
    "number = [100, 200, 300, 10, 111, 1000]\n",
    "largest_number = number[0]\n",
    "for i in number:\n",
    "    if i > largest_number:\n",
    "        largest_number = i\n",
    "print(largest_number)"
   ]
  },
  {
   "cell_type": "code",
   "execution_count": null,
   "id": "7afb9aa8",
   "metadata": {},
   "outputs": [],
   "source": [
    "Write a Python program to find second largest number in a list?"
   ]
  },
  {
   "cell_type": "code",
   "execution_count": null,
   "id": "c1ca5125",
   "metadata": {},
   "outputs": [],
   "source": [
    "def Nlargestnum(num):\n",
    "    num.sort(reverse=True)\n",
    "    print#x = nu(N+1)\n",
    "    return num[1]  \n",
    "number = [100, 200, 300, 10, 111, 1000]\n",
    "sec = Nlargestnum(number)\n",
    "print(\"%d is the second highest number in list\"%(sec))"
   ]
  },
  {
   "cell_type": "code",
   "execution_count": null,
   "id": "2d13d69a",
   "metadata": {},
   "outputs": [],
   "source": [
    "Write a Python program to find N largest elements from a list?"
   ]
  },
  {
   "cell_type": "code",
   "execution_count": null,
   "id": "546e982b",
   "metadata": {},
   "outputs": [],
   "source": [
    "def Nlargestnum(num,N):\n",
    "    num.sort(reverse=True)\n",
    "    print#x = nu(N+1)\n",
    "    return num[N-1]  \n",
    "N = int(input(\"Enter The Nth Value:\"))\n",
    "number = [100, 200, 300, 10, 111, 1000]\n",
    "Lar = Nlargestnum(number,N)\n",
    "print(\"%d is the %d highest number in list\"%(Lar,N))"
   ]
  },
  {
   "cell_type": "code",
   "execution_count": null,
   "id": "8a14139b",
   "metadata": {},
   "outputs": [],
   "source": [
    "Write a Python program to print even numbers in a list?"
   ]
  },
  {
   "cell_type": "code",
   "execution_count": null,
   "id": "f4df3563",
   "metadata": {},
   "outputs": [],
   "source": [
    "def listcopy(new_list):\n",
    "    even = []\n",
    "    for i in new_list:\n",
    "        if (i%2 == 0):\n",
    "            even.append(i)   \n",
    "    return even\n",
    "given_list = [1,2,3,4,5]\n",
    "even_list = listcopy(given_list)\n",
    "print(\"list of even number \",even_list)"
   ]
  },
  {
   "cell_type": "code",
   "execution_count": null,
   "id": "40bb91d0",
   "metadata": {},
   "outputs": [],
   "source": [
    "Write a Python program to print odd numbers in a List?"
   ]
  },
  {
   "cell_type": "code",
   "execution_count": null,
   "id": "30280bd0",
   "metadata": {},
   "outputs": [],
   "source": [
    "def listcopy(new_list):\n",
    "    odd = []\n",
    "    for i in new_list:\n",
    "        if (i%2 != 0):\n",
    "            odd.append(i)   \n",
    "    return odd\n",
    "given_list = [1,2,3,4,5]\n",
    "odd_list = listcopy(given_list)\n",
    "print(\"list of odd number \",odd_list)"
   ]
  },
  {
   "cell_type": "code",
   "execution_count": null,
   "id": "7634076b",
   "metadata": {},
   "outputs": [],
   "source": [
    "Write a Python program to Remove empty List from List?"
   ]
  },
  {
   "cell_type": "code",
   "execution_count": null,
   "id": "f546e83a",
   "metadata": {},
   "outputs": [],
   "source": [
    "def listcopy(new_list):\n",
    "    for i in new_list:\n",
    "        if type(i) == list and len(i) == 0:\n",
    "            new_list.remove(i)   \n",
    "    return new_list\n",
    "given_list = [1,2,[],3,[],4,5]\n",
    "clean_list = listcopy(given_list)\n",
    "print(\"after removing empty list \",clean_list)"
   ]
  },
  {
   "cell_type": "code",
   "execution_count": null,
   "id": "b66bf4d9",
   "metadata": {},
   "outputs": [],
   "source": [
    "Write a Python program to Cloning or Copying a list?"
   ]
  },
  {
   "cell_type": "code",
   "execution_count": null,
   "id": "2f7b46c4",
   "metadata": {},
   "outputs": [],
   "source": [
    "def listcopy(copy):\n",
    "    cloned_list = copy\n",
    "    return cloned_list,copy"
   ]
  },
  {
   "cell_type": "code",
   "execution_count": null,
   "id": "313691a7",
   "metadata": {},
   "outputs": [],
   "source": [
    "copy = [1,2,3,4,5]\n",
    "cloned_list,copy = listcopy(copy)\n",
    "print(\"Copied list:{1} \"cloned_list)"
   ]
  },
  {
   "cell_type": "code",
   "execution_count": null,
   "id": "bd78b8ac",
   "metadata": {},
   "outputs": [],
   "source": [
    "Write a Python program to Count occurrences of an element in a list?"
   ]
  },
  {
   "cell_type": "code",
   "execution_count": null,
   "id": "be1f9849",
   "metadata": {},
   "outputs": [],
   "source": [
    "ele = input(\"Enter The Alphabet to be Searched \")\n",
    "listele = ['a','b','c','d','e','a']\n",
    "count = 0\n",
    "for i in listele:\n",
    "     if i == ele:\n",
    "        count = count + 1\n",
    "print (\"Occurence of element %s in list is %d: \"%(ele,count))"
   ]
  },
  {
   "cell_type": "code",
   "execution_count": null,
   "id": "e5dbe416",
   "metadata": {},
   "outputs": [],
   "source": []
  },
  {
   "cell_type": "code",
   "execution_count": null,
   "id": "6d8f2dd9",
   "metadata": {},
   "outputs": [],
   "source": []
  }
 ],
 "metadata": {
  "kernelspec": {
   "display_name": "Python 3 (ipykernel)",
   "language": "python",
   "name": "python3"
  },
  "language_info": {
   "codemirror_mode": {
    "name": "ipython",
    "version": 3
   },
   "file_extension": ".py",
   "mimetype": "text/x-python",
   "name": "python",
   "nbconvert_exporter": "python",
   "pygments_lexer": "ipython3",
   "version": "3.9.7"
  }
 },
 "nbformat": 4,
 "nbformat_minor": 5
}
