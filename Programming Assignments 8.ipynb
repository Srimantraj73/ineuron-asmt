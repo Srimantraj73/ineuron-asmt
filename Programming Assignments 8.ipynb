{
 "cells": [
  {
   "cell_type": "markdown",
   "id": "91024363",
   "metadata": {},
   "source": [
    "# Programming Assignments 8"
   ]
  },
  {
   "cell_type": "code",
   "execution_count": null,
   "id": "7c119c90",
   "metadata": {},
   "outputs": [],
   "source": [
    "Write a Python Program to Add Two Matrices?"
   ]
  },
  {
   "cell_type": "code",
   "execution_count": null,
   "id": "1697566a",
   "metadata": {},
   "outputs": [],
   "source": [
    "x= [[1,1,1],[2,2,2],[3,3,3]]\n",
    "y= [[1,1,1],[2,2,2],[3,3,3]]\n",
    "sum= [[0,0,0],[0,0,0],[0,0,0]]\n",
    "for i in range(len(x)):\n",
    "    for j in range(len(x[0])):\n",
    "        sum[i][j] =  x[i][j] + y[i][j]\n",
    "print(sum)"
   ]
  },
  {
   "cell_type": "code",
   "execution_count": null,
   "id": "b1556cd3",
   "metadata": {},
   "outputs": [],
   "source": [
    "Write a Python Program to Multiply Two Matrices?"
   ]
  },
  {
   "cell_type": "code",
   "execution_count": null,
   "id": "b7018201",
   "metadata": {},
   "outputs": [],
   "source": [
    "x= [[1,1,1],[2,2,2],[3,3,3]]\n",
    "y= [[1,1,1],[2,2,2],[3,3,3]]\n",
    "pdt= [[1,1,1],[1,1,1],[1,1,1]]\n",
    "for i in range(len(x)):\n",
    "    for j in range(len(x[0])):\n",
    "        pdt[i][j] =  x[i][j] * y[i][j]\n",
    "print(pdt)"
   ]
  },
  {
   "cell_type": "code",
   "execution_count": null,
   "id": "e939383d",
   "metadata": {},
   "outputs": [],
   "source": [
    "Write a Python Program to Transpose a Matrix?"
   ]
  },
  {
   "cell_type": "code",
   "execution_count": null,
   "id": "4b74f51f",
   "metadata": {},
   "outputs": [],
   "source": [
    "x= [[1,1],\n",
    "    [2,2],\n",
    "    [3,3]]\n",
    "pdt= [[0,0,0],[0,0,0]]\n",
    "for i in range(len(x)):\n",
    "    for j in range(len(x[0])):\n",
    "        pdt[j][i] =  x[i][j] \n",
    "print(pdt)"
   ]
  },
  {
   "cell_type": "code",
   "execution_count": null,
   "id": "5e6cda99",
   "metadata": {},
   "outputs": [],
   "source": [
    "Write a Python Program to Sort Words in Alphabetic Order?"
   ]
  },
  {
   "cell_type": "code",
   "execution_count": null,
   "id": "c8f027da",
   "metadata": {},
   "outputs": [],
   "source": [
    "x = ['this','is','a','cat']\n",
    "x.sort()\n",
    "print(x)"
   ]
  },
  {
   "cell_type": "code",
   "execution_count": null,
   "id": "7b1f7811",
   "metadata": {},
   "outputs": [],
   "source": [
    "Write a Python Program to Remove Punctuation From a String?"
   ]
  },
  {
   "cell_type": "code",
   "execution_count": null,
   "id": "e16b4d8a",
   "metadata": {},
   "outputs": [],
   "source": [
    "pun = '''!()-[]{};:'\"\\,<>./?@#$%^&*_~'''\n",
    "string = \"This is [] ,<>my?@wo#rld\"\n",
    "new_string = ' '\n",
    "for i in string:\n",
    "    if i not in pun:\n",
    "         new_string = new_string + i\n",
    "print(new_string)"
   ]
  }
 ],
 "metadata": {
  "kernelspec": {
   "display_name": "Python 3 (ipykernel)",
   "language": "python",
   "name": "python3"
  },
  "language_info": {
   "codemirror_mode": {
    "name": "ipython",
    "version": 3
   },
   "file_extension": ".py",
   "mimetype": "text/x-python",
   "name": "python",
   "nbconvert_exporter": "python",
   "pygments_lexer": "ipython3",
   "version": "3.9.7"
  }
 },
 "nbformat": 4,
 "nbformat_minor": 5
}
