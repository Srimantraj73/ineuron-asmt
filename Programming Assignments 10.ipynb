{
 "cells": [
  {
   "cell_type": "markdown",
   "id": "f0967a66",
   "metadata": {},
   "source": [
    "# Programming Assignment 10"
   ]
  },
  {
   "cell_type": "code",
   "execution_count": null,
   "id": "bd1ed73f",
   "metadata": {},
   "outputs": [],
   "source": [
    "Write a Python program to find sum of elements in list?"
   ]
  },
  {
   "cell_type": "code",
   "execution_count": null,
   "id": "03ee481d",
   "metadata": {},
   "outputs": [],
   "source": [
    "def sumnum(num):\n",
    "    summ = 0\n",
    "    for i in num:\n",
    "        summ = i + summ\n",
    "    return summ\n",
    "number = [100, 200, 300, 10, 111, 1000]\n",
    "summer = sumnum(number)\n",
    "print(\"%d is the summation of list\"%(summer))"
   ]
  },
  {
   "cell_type": "code",
   "execution_count": null,
   "id": "a752ebb0",
   "metadata": {},
   "outputs": [],
   "source": [
    "Write a Python program to Multiply all numbers in the list?"
   ]
  },
  {
   "cell_type": "code",
   "execution_count": null,
   "id": "21f04b79",
   "metadata": {},
   "outputs": [],
   "source": [
    "def multiplynum(num):\n",
    "    multiply = 1\n",
    "    for i in num:\n",
    "         multiply = i * multiply\n",
    "    return multiply\n",
    "number = [100, 200, 300, 10, 111, 1000]\n",
    "mul = multiplynum(number)\n",
    "print(\"%d is the multiplication of list\"%(mul))"
   ]
  },
  {
   "cell_type": "code",
   "execution_count": null,
   "id": "a67218c3",
   "metadata": {},
   "outputs": [],
   "source": [
    "Write a Python program to find smallest number in a list?"
   ]
  },
  {
   "cell_type": "code",
   "execution_count": null,
   "id": "8a18f8de",
   "metadata": {},
   "outputs": [],
   "source": [
    "number = [100, 200, 300, 10,10, 111, 1000]\n",
    "smallest_number = number[0]\n",
    "for i in number:\n",
    "    if i < smallest_number:\n",
    "        smallest_number = i\n",
    "print(smallest_number)"
   ]
  },
  {
   "cell_type": "code",
   "execution_count": null,
   "id": "11f6ae69",
   "metadata": {},
   "outputs": [],
   "source": [
    "Write a Python program to find largest number in a list?"
   ]
  },
  {
   "cell_type": "code",
   "execution_count": null,
   "id": "5abcb9cf",
   "metadata": {},
   "outputs": [],
   "source": [
    "number = [100, 200, 300, 10, 111, 1000]\n",
    "largest_number = number[0]\n",
    "for i in number:\n",
    "    if i > largest_number:\n",
    "        largest_number = i\n",
    "print(largest_number)"
   ]
  },
  {
   "cell_type": "code",
   "execution_count": null,
   "id": "7afb9aa8",
   "metadata": {},
   "outputs": [],
   "source": [
    "Write a Python program to find second largest number in a list?"
   ]
  },
  {
   "cell_type": "code",
   "execution_count": null,
   "id": "c1ca5125",
   "metadata": {},
   "outputs": [],
   "source": [
    "def Nlargestnum(num):\n",
    "    num.sort(reverse=True)\n",
    "    print#x = nu(N+1)\n",
    "    return num[1]  \n",
    "number = [100, 200, 300, 10, 111, 1000]\n",
    "sec = Nlargestnum(number)\n",
    "print(\"%d is the second highest number in list\"%(sec))"
   ]
  },
  {
   "cell_type": "code",
   "execution_count": null,
   "id": "2d13d69a",
   "metadata": {},
   "outputs": [],
   "source": [
    "Write a Python program to find N largest elements from a list?"
   ]
  },
  {
   "cell_type": "code",
   "execution_count": null,
   "id": "546e982b",
   "metadata": {},
   "outputs": [],
   "source": [
    "def Nlargestnum(num,N):\n",
    "    num.sort(reverse=True)\n",
    "    print#x = nu(N+1)\n",
    "    return num[N-1]  \n",
    "N = int(input(\"Enter The Nth Value:\"))\n",
    "number = [100, 200, 300, 10, 111, 1000]\n",
    "Lar = Nlargestnum(number,N)\n",
    "print(\"%d is the %d highest number in list\"%(Lar,N))"
   ]
  },
  {
   "cell_type": "code",
   "execution_count": null,
   "id": "8a14139b",
   "metadata": {},
   "outputs": [],
   "source": [
    "Write a Python program to print even numbers in a list?"
   ]
  },
  {
   "cell_type": "code",
   "execution_count": null,
   "id": "f4df3563",
   "metadata": {},
   "outputs": [],
   "source": [
    "def listcopy(new_list):\n",
    "    even = []\n",
    "    for i in new_list:\n",
    "        if (i%2 == 0):\n",
    "            even.append(i)   \n",
    "    return even\n",
    "given_list = [1,2,3,4,5]\n",
    "even_list = listcopy(given_list)\n",
    "print(\"list of even number \",even_list)"
   ]
  },
  {
   "cell_type": "code",
   "execution_count": null,
   "id": "40bb91d0",
   "metadata": {},
   "outputs": [],
   "source": [
    "Write a Python program to print odd numbers in a List?"
   ]
  },
  {
   "cell_type": "code",
   "execution_count": null,
   "id": "30280bd0",
   "metadata": {},
   "outputs": [],
   "source": [
    "def listcopy(new_list):\n",
    "    odd = []\n",
    "    for i in new_list:\n",
    "        if (i%2 != 0):\n",
    "            odd.append(i)   \n",
    "    return odd\n",
    "given_list = [1,2,3,4,5]\n",
    "odd_list = listcopy(given_list)\n",
    "print(\"list of odd number \",odd_list)"
   ]
  },
  {
   "cell_type": "code",
   "execution_count": null,
   "id": "7634076b",
   "metadata": {},
   "outputs": [],
   "source": [
    "Write a Python program to Remove empty List from List?"
   ]
  },
  {
   "cell_type": "code",
   "execution_count": null,
   "id": "f546e83a",
   "metadata": {},
   "outputs": [],
   "source": [
    "def listcopy(new_list):\n",
    "    for i in new_list:\n",
    "        if type(i) == list and len(i) == 0:\n",
    "            new_list.remove(i)   \n",
    "    return new_list\n",
    "given_list = [1,2,[],3,[],4,5]\n",
    "clean_list = listcopy(given_list)\n",
    "print(\"after removing empty list \",clean_list)"
   ]
  },
  {
   "cell_type": "code",
   "execution_count": null,
   "id": "b66bf4d9",
   "metadata": {},
   "outputs": [],
   "source": [
    "Write a Python program to Cloning or Copying a list?"
   ]
  },
  {
   "cell_type": "code",
   "execution_count": null,
   "id": "2f7b46c4",
   "metadata": {},
   "outputs": [],
   "source": [
    "def listcopy(copy):\n",
    "    cloned_list = copy\n",
    "    return cloned_list,copy"
   ]
  },
  {
   "cell_type": "code",
   "execution_count": null,
   "id": "313691a7",
   "metadata": {},
   "outputs": [],
   "source": [
    "copy = [1,2,3,4,5]\n",
    "cloned_list,copy = listcopy(copy)\n",
    "print(\"Copied list:{1} \"cloned_list)"
   ]
  },
  {
   "cell_type": "code",
   "execution_count": null,
   "id": "bd78b8ac",
   "metadata": {},
   "outputs": [],
   "source": [
    "Write a Python program to Count occurrences of an element in a list?"
   ]
  },
  {
   "cell_type": "code",
   "execution_count": null,
   "id": "be1f9849",
   "metadata": {},
   "outputs": [],
   "source": [
    "ele = input(\"Enter The Alphabet to be Searched \")\n",
    "listele = ['a','b','c','d','e','a']\n",
    "count = 0\n",
    "for i in listele:\n",
    "     if i == ele:\n",
    "        count = count + 1\n",
    "print (\"Occurence of element %s in list is %d: \"%(ele,count))"
   ]
  }
 ],
 "metadata": {
  "kernelspec": {
   "display_name": "Python 3 (ipykernel)",
   "language": "python",
   "name": "python3"
  },
  "language_info": {
   "codemirror_mode": {
    "name": "ipython",
    "version": 3
   },
   "file_extension": ".py",
   "mimetype": "text/x-python",
   "name": "python",
   "nbconvert_exporter": "python",
   "pygments_lexer": "ipython3",
   "version": "3.9.7"
  }
 },
 "nbformat": 4,
 "nbformat_minor": 5
}
