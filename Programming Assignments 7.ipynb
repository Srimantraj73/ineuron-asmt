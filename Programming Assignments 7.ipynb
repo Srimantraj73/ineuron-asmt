{
 "cells": [
  {
   "cell_type": "markdown",
   "id": "97f9ec9e",
   "metadata": {},
   "source": [
    "# Programming Assignment 7"
   ]
  },
  {
   "cell_type": "code",
   "execution_count": null,
   "id": "c7684ea6",
   "metadata": {},
   "outputs": [],
   "source": [
    "Write a Python Program to find sum of array?"
   ]
  },
  {
   "cell_type": "code",
   "execution_count": null,
   "id": "15dca3f4",
   "metadata": {},
   "outputs": [],
   "source": [
    "def sumnum(num):\n",
    "    summ = 0\n",
    "    for i in num:\n",
    "        summ = i + summ\n",
    "    return summ\n",
    "number = [100, 200, 300, 10, 111, 1000]\n",
    "summer = sumnum(number)\n",
    "print(\"%d is the summation of list\"%(summer))"
   ]
  },
  {
   "cell_type": "code",
   "execution_count": null,
   "id": "23a4e67b",
   "metadata": {},
   "outputs": [],
   "source": [
    "Write a Python Program to find largest element in an array?"
   ]
  },
  {
   "cell_type": "code",
   "execution_count": null,
   "id": "bd750af7",
   "metadata": {},
   "outputs": [],
   "source": [
    "number = [100, 200, 300, 10, 111, 1000]\n",
    "largest_number = number[0]\n",
    "for i in number:\n",
    "    if i > largest_number:\n",
    "        largest_number = i\n",
    "print(largest_number)"
   ]
  },
  {
   "cell_type": "code",
   "execution_count": null,
   "id": "03d9a5d2",
   "metadata": {},
   "outputs": [],
   "source": [
    "Write a Python Program for array rotation?"
   ]
  },
  {
   "cell_type": "code",
   "execution_count": null,
   "id": "0f84490e",
   "metadata": {},
   "outputs": [],
   "source": [
    "def rotate(arr,d):\n",
    "    n = len(arr)\n",
    "    temp = []\n",
    "    for i in range(d,n+1):\n",
    "          temp.append(i)\n",
    "    for i in range(0,d):\n",
    "          temp.append(i)\n",
    "    return temp\n",
    "arr = [1,2,3,4,5,6]\n",
    "rot = rotate(arr,2)\n",
    "print(rot)"
   ]
  },
  {
   "cell_type": "code",
   "execution_count": null,
   "id": "b8b8bf3f",
   "metadata": {},
   "outputs": [],
   "source": [
    "Write a Python Program to Split the array and add the first part to the end?"
   ]
  },
  {
   "cell_type": "code",
   "execution_count": null,
   "id": "48558ed9",
   "metadata": {},
   "outputs": [],
   "source": [
    "a = [1,2,3,10,20,30]\n",
    "length = len(a)\n",
    "half = int(length/2)\n",
    "print(length,half)\n",
    "x = []\n",
    "if (length % 2 == 0):\n",
    "    for i in range(0,half):\n",
    "        sum = a[i] + a[i + half]\n",
    "        x.append(sum)\n",
    "    print(x)\n",
    "else:\n",
    "    print(\"array is odd , add 1 more element to array\")"
   ]
  },
  {
   "cell_type": "code",
   "execution_count": null,
   "id": "0b8640d8",
   "metadata": {},
   "outputs": [],
   "source": [
    "Write a Python Program to check if given array is Monotonic?"
   ]
  },
  {
   "cell_type": "code",
   "execution_count": null,
   "id": "f208c258",
   "metadata": {},
   "outputs": [],
   "source": [
    "def mono(a):\n",
    "  \n",
    "    return (all(a[i] <= a[i + 1] for i in range(len(a) - 1)) or\n",
    "            all(a[i] >= a[i + 1] for i in range(len(a) - 1)))\n",
    "b = [1, 3, 44, 54]\n",
    "print(mono(b))"
   ]
  }
 ],
 "metadata": {
  "kernelspec": {
   "display_name": "Python 3 (ipykernel)",
   "language": "python",
   "name": "python3"
  },
  "language_info": {
   "codemirror_mode": {
    "name": "ipython",
    "version": 3
   },
   "file_extension": ".py",
   "mimetype": "text/x-python",
   "name": "python",
   "nbconvert_exporter": "python",
   "pygments_lexer": "ipython3",
   "version": "3.9.7"
  }
 },
 "nbformat": 4,
 "nbformat_minor": 5
}
