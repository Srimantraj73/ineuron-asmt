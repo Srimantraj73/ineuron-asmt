{
 "cells": [
  {
   "cell_type": "markdown",
   "id": "d067d6e8",
   "metadata": {},
   "source": [
    "# code - \n",
    "Create a programme that searches a folder tree for files with a certain file extension (such as .pdf or .jpg). Copy these files from whatever location they are in to a new folder.\n"
   ]
  },
  {
   "cell_type": "code",
   "execution_count": null,
   "id": "51ae576f",
   "metadata": {},
   "outputs": [],
   "source": [
    "\n",
    "def loggingfunc(a):\n",
    "    import logging as lg\n",
    "    lg.basicConfig(filename = \"testcheckfile.log\", format = '%(asctime)s %(message)s')\n",
    "    lg.info(a)\n",
    "    \n",
    "def createfolder():\n",
    "    try:\n",
    "        if not (os.path.isdir(\"allpdffiles\")) or not (os.path.isdir(\"alltxtfiles\")) or not (os.path.isdir(\"alldocfiles\")):\n",
    "                os.mkdir(\"allpdffiles\")\n",
    "                os.mkdir(\"alltxtfiles\")\n",
    "                os.mkdir(\"alldocfiles\")\n",
    "                return \"done\" \n",
    "        else:\n",
    "            return \"exist\"\n",
    "    except Exception as e:\n",
    "           loggingfunc(e)"
   ]
  },
  {
   "cell_type": "code",
   "execution_count": 5,
   "id": "3a78271f",
   "metadata": {},
   "outputs": [],
   "source": [
    "def checkfile():\n",
    "    a = \"start the check file\"\n",
    "    loggingfunc(a)\n",
    "    extensionlist = [\".txt\",\".pdf\",\".docx\"]\n",
    "    try:\n",
    "                if os.path.isdir(\"tree\"):\n",
    "                 #   ipdb.set_trace()\n",
    "                    a = \"tree folder found\"\n",
    "                    loggingfunc(a)\n",
    "                    os.chdir(\"./tree\")\n",
    "                    val = createfolder()\n",
    "                    #print(val)\n",
    "                    if val in (\"exist\",\"done\"):\n",
    "                            newlist = os.listdir(os.getcwd())\n",
    "                            loggingfunc(newlist)\n",
    "                            for i in newlist:\n",
    "                                    if i.endswith('.pdf'):\n",
    "                                            shutil.move(os.getcwd()+\"\\\\\"+ i ,os.getcwd()+\"\\\\\"+\"allpdffiles\")\n",
    "                                    elif i.endswith('.txt'):\n",
    "                                            print('txt file')\n",
    "                                            shutil.move(os.getcwd()+\"\\\\\"+i ,os.getcwd()+\"\\\\\"+\"alltxtfiles\")\n",
    "                                    elif i.endswith('.docx'):\n",
    "                                            shutil.move(os.getcwd()+\"\\\\\"+ i ,os.getcwd()+\"\\\\\"+\"alldocfiles\")\n",
    "                                    else:\n",
    "                                        print(\"incorrect file format found\")\n",
    "                else:\n",
    "                    return('folder doesnot exist')\n",
    "    except Exception as e:\n",
    "            loggingfunc(e)\n"
   ]
  },
  {
   "cell_type": "code",
   "execution_count": null,
   "id": "042859f7",
   "metadata": {},
   "outputs": [],
   "source": [
    "import os\n",
    "import shutil"
   ]
  }
 ],
 "metadata": {
  "kernelspec": {
   "display_name": "Python 3 (ipykernel)",
   "language": "python",
   "name": "python3"
  },
  "language_info": {
   "codemirror_mode": {
    "name": "ipython",
    "version": 3
   },
   "file_extension": ".py",
   "mimetype": "text/x-python",
   "name": "python",
   "nbconvert_exporter": "python",
   "pygments_lexer": "ipython3",
   "version": "3.9.7"
  }
 },
 "nbformat": 4,
 "nbformat_minor": 5
}
