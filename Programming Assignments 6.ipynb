{
 "cells": [
  {
   "cell_type": "markdown",
   "id": "d6f20e26",
   "metadata": {},
   "source": [
    "# Programming Assignments 6"
   ]
  },
  {
   "cell_type": "code",
   "execution_count": null,
   "id": "312bee7c",
   "metadata": {},
   "outputs": [],
   "source": [
    "Write a Python Program to Display Fibonacci Sequence Using Recursion?"
   ]
  },
  {
   "cell_type": "code",
   "execution_count": 3,
   "id": "e1eed1f0",
   "metadata": {},
   "outputs": [
    {
     "name": "stdout",
     "output_type": "stream",
     "text": [
      "enter a number for fibo sequence: 5\n",
      "0\n",
      "1\n",
      "1\n",
      "2\n",
      "3\n"
     ]
    }
   ],
   "source": [
    "def fibonacci(n):\n",
    "    if n <= 1:\n",
    "        return n\n",
    "    else:\n",
    "        return fibonacci(n - 1) + fibonacci(n - 2)\n",
    "num = int(input(\"enter a number for fibo sequence: \"))\n",
    "for i in range(num):\n",
    "    print(fibonacci(i))"
   ]
  },
  {
   "cell_type": "code",
   "execution_count": null,
   "id": "30200f82",
   "metadata": {},
   "outputs": [],
   "source": [
    "Write a Python Program to Find Factorial of Number Using Recursion?"
   ]
  },
  {
   "cell_type": "code",
   "execution_count": 6,
   "id": "07c0b4c8",
   "metadata": {},
   "outputs": [
    {
     "name": "stdout",
     "output_type": "stream",
     "text": [
      "enter a number for factorial : 5\n",
      "120\n"
     ]
    }
   ],
   "source": [
    "def factorial(n):\n",
    "    if n == 1:\n",
    "        return n\n",
    "    else:\n",
    "        return n * factorial(n - 1)\n",
    "num = int(input(\"enter a number for factorial : \"))\n",
    "if num == 0:\n",
    "    print(\"factorial of 0 is: %d\"%1 )\n",
    "else:\n",
    "    for i in range(1, num+1):\n",
    "             fact = factorial(i)\n",
    "print(fact)"
   ]
  },
  {
   "cell_type": "code",
   "execution_count": null,
   "id": "2bbc3091",
   "metadata": {},
   "outputs": [],
   "source": [
    "Write a Python Program to calculate your Body Mass Index?"
   ]
  },
  {
   "cell_type": "code",
   "execution_count": 16,
   "id": "b4905b77",
   "metadata": {},
   "outputs": [
    {
     "name": "stdout",
     "output_type": "stream",
     "text": [
      "enter weight of the body :76\n",
      "enter height of the body in meters :1.7\n",
      "the BMI of the body is :26.30\n",
      "overweight\n"
     ]
    }
   ],
   "source": [
    "weight = float(input(\"enter weight of the body :\")) \n",
    "height =float(input(\"enter height of the body in meters :\"))\n",
    "BMI = weight/(height**2)\n",
    "print(\"the BMI of the body is :%0.2f\"%BMI)\n",
    "if(BMI < 18.5):\n",
    "        print(\"underweight\")\n",
    " \n",
    "elif( BMI >= 18.5 and BMI < 24.9):\n",
    "        print(\"Healthy\")\n",
    " \n",
    "elif( BMI >= 24.9 and BMI < 30):\n",
    "        print(\"overweight\")\n",
    " \n",
    "elif( BMI >=30):\n",
    "        print(\"Suffering from Obesity\")\n"
   ]
  },
  {
   "cell_type": "code",
   "execution_count": null,
   "id": "9ffe7f81",
   "metadata": {},
   "outputs": [],
   "source": [
    "Write a Python Program to calculate the natural logarithm of any number?"
   ]
  },
  {
   "cell_type": "code",
   "execution_count": null,
   "id": "cc83d1f1",
   "metadata": {},
   "outputs": [],
   "source": [
    "import numpy as np\n",
    "a = [1,2,3,10,20,30]\n",
    "print(np.log(a))\n",
    "print(np.log(10))"
   ]
  },
  {
   "cell_type": "code",
   "execution_count": null,
   "id": "4e1b6de5",
   "metadata": {},
   "outputs": [],
   "source": [
    "Write a Python Program for cube sum of first n natural numbers?"
   ]
  },
  {
   "cell_type": "code",
   "execution_count": null,
   "id": "c87df8cb",
   "metadata": {},
   "outputs": [],
   "source": [
    "def sumnum(n):\n",
    "    cubesum = 0\n",
    "    for i in range(1,n+1):\n",
    "        cubesum = cubesum + i**3\n",
    "    return cubesum\n",
    "num = int(input(\"Enter Nth Natural No: \"))\n",
    "summer = sumnum(num)\n",
    "print(\"%d is the sum of cube of first %d natural no.\"%(summer,num))\n"
   ]
  }
 ],
 "metadata": {
  "kernelspec": {
   "display_name": "Python 3 (ipykernel)",
   "language": "python",
   "name": "python3"
  },
  "language_info": {
   "codemirror_mode": {
    "name": "ipython",
    "version": 3
   },
   "file_extension": ".py",
   "mimetype": "text/x-python",
   "name": "python",
   "nbconvert_exporter": "python",
   "pygments_lexer": "ipython3",
   "version": "3.9.7"
  }
 },
 "nbformat": 4,
 "nbformat_minor": 5
}
