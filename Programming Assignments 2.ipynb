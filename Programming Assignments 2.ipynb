{
 "cells": [
  {
   "cell_type": "markdown",
   "id": "99b8df02",
   "metadata": {},
   "source": [
    "# Programming Assignment 2"
   ]
  },
  {
   "cell_type": "code",
   "execution_count": null,
   "id": "c455011c",
   "metadata": {},
   "outputs": [],
   "source": [
    "Write a Python program to convert kilometers to miles?"
   ]
  },
  {
   "cell_type": "code",
   "execution_count": null,
   "id": "f423db4c",
   "metadata": {},
   "outputs": [],
   "source": [
    "km = float(input(\"enter distance in kilometers: \"))\n",
    "miles = km * 0.621371\n",
    "print(\"%0.2f km distance in miles %0.2f in miles :\"% (km,miles))"
   ]
  },
  {
   "cell_type": "code",
   "execution_count": null,
   "id": "1fc128a4",
   "metadata": {},
   "outputs": [],
   "source": [
    "Write a Python program to convert Celsius to Fahrenheit?"
   ]
  },
  {
   "cell_type": "code",
   "execution_count": null,
   "id": "eb3b5019",
   "metadata": {},
   "outputs": [],
   "source": [
    "Celsius = float(input(\"enter Temperature in Celsius: \"))\n",
    "Fahrenheit = Celsius * 0.621371\n",
    "print(\"%0.2f Celsius in Fahrenheit scale  %0.2f  :\"% (Celsius,Fahrenheit))"
   ]
  },
  {
   "cell_type": "code",
   "execution_count": null,
   "id": "2f230693",
   "metadata": {},
   "outputs": [],
   "source": [
    "Write a Python program to display calendar?"
   ]
  },
  {
   "cell_type": "code",
   "execution_count": null,
   "id": "63fea934",
   "metadata": {},
   "outputs": [],
   "source": [
    "import calendar\n",
    "yy = int(\"enter year\")\n",
    "mm = int(\"enter month\")\n",
    "print(calendar.month(yy.mm))"
   ]
  },
  {
   "cell_type": "code",
   "execution_count": null,
   "id": "999b2444",
   "metadata": {},
   "outputs": [],
   "source": [
    "Write a Python program to solve quadratic equation?"
   ]
  },
  {
   "cell_type": "code",
   "execution_count": null,
   "id": "b4ad1497",
   "metadata": {},
   "outputs": [],
   "source": [
    "import cmath\n",
    "a = int(input(\"enter coeficient of quad equation\"))\n",
    "b = int(input(\"enter second coneficient of quad equation\"))\n",
    "c = int(input(\"enter third coeficient of quad equation\"))\n",
    "#calculate discriminant\n",
    "d = (b**2) - (4*a*c)\n",
    "firstsol = -(b+ cmath.sqrt(d))/2*a \n",
    "secondsol = -(b- cmath.sqrt(d))/2*a\n",
    "print(\"the 2 solutions of quad equation are {0} and {1}\".format(firstsol,secondsol))"
   ]
  },
  {
   "cell_type": "code",
   "execution_count": null,
   "id": "62685369",
   "metadata": {},
   "outputs": [],
   "source": [
    "Write a Python program to swap two variables without temp variable?"
   ]
  },
  {
   "cell_type": "code",
   "execution_count": 1,
   "id": "438c28b1",
   "metadata": {},
   "outputs": [
    {
     "name": "stdout",
     "output_type": "stream",
     "text": [
      "enter first number10\n",
      "enter second number20\n",
      "Before Swapping:10 , 20 \n",
      "After Swapping:20 , 10 \n"
     ]
    }
   ],
   "source": [
    "x = int(input(\"enter first number\"))\n",
    "y = int(input(\"enter second number\"))\n",
    "print(\"Before Swapping:{} , {} \".format(x,y))\n",
    "x = x + y \n",
    "y = x - y \n",
    "x = x - y \n",
    "print(\"After Swapping:{} , {} \".format(x,y))"
   ]
  },
  {
   "cell_type": "markdown",
   "id": "2466442c",
   "metadata": {},
   "source": [
    "# Programming Assignment 3"
   ]
  },
  {
   "cell_type": "code",
   "execution_count": null,
   "id": "f7b5acac",
   "metadata": {},
   "outputs": [],
   "source": [
    "Write a Python Program to Check if a Number is Positive, Negative or Zero"
   ]
  },
  {
   "cell_type": "code",
   "execution_count": 2,
   "id": "f601a3eb",
   "metadata": {},
   "outputs": [
    {
     "name": "stdout",
     "output_type": "stream",
     "text": [
      "enter number to check: 4\n",
      "  4 value is positive\n"
     ]
    }
   ],
   "source": [
    "x = int(input(\"enter number to check: \"))\n",
    "if x > 0:\n",
    "    print(\"%3d value is positive\"%x)\n",
    "elif x < 0:\n",
    "    print(\"%3d value is negative \"%x)\n",
    "else:\n",
    "    print(\"%3d value is zero\"%x)"
   ]
  },
  {
   "cell_type": "code",
   "execution_count": null,
   "id": "b6a2f502",
   "metadata": {},
   "outputs": [],
   "source": [
    "Write a Python Program to Check if a Number is Odd or Even?"
   ]
  },
  {
   "cell_type": "code",
   "execution_count": 4,
   "id": "85926968",
   "metadata": {},
   "outputs": [
    {
     "name": "stdout",
     "output_type": "stream",
     "text": [
      "enter number to check: 2\n",
      " 2 is a even number \n"
     ]
    }
   ],
   "source": [
    "x = int(input(\"enter number to check: \"))\n",
    "if (x%2==0):\n",
    "    print(\"%2d is a even number \"%x)\n",
    "else:\n",
    "    print(\"%2d is a odd number\"%x)"
   ]
  },
  {
   "cell_type": "code",
   "execution_count": null,
   "id": "1f0a9b58",
   "metadata": {},
   "outputs": [],
   "source": [
    "Write a Python Program to Check Leap Year?"
   ]
  },
  {
   "cell_type": "code",
   "execution_count": 1,
   "id": "f53f542d",
   "metadata": {},
   "outputs": [
    {
     "name": "stdout",
     "output_type": "stream",
     "text": [
      "enter year to check: 2020\n",
      "2020 is a leap number \n"
     ]
    }
   ],
   "source": [
    "yy = int(input(\"enter year to check: \"))\n",
    "if (yy% 4 == 0):\n",
    "    print(\"%4d is a leap number \"%yy)\n",
    "else:\n",
    "    print(\"%4d is a not a leap number\"%yy)"
   ]
  },
  {
   "cell_type": "code",
   "execution_count": null,
   "id": "08bd4591",
   "metadata": {},
   "outputs": [],
   "source": [
    "Write a Python Program to Check Prime Number?"
   ]
  },
  {
   "cell_type": "code",
   "execution_count": 3,
   "id": "6fd4b64d",
   "metadata": {},
   "outputs": [
    {
     "name": "stdout",
     "output_type": "stream",
     "text": [
      "enter number to check: 3\n",
      "given number  3 is prime\n"
     ]
    }
   ],
   "source": [
    "prime = int(input(\"enter number to check: \"))\n",
    "i = 1\n",
    "count = 0\n",
    "while(i <= prime):    \n",
    "        if (prime % i == 0):\n",
    "            count = count + 1\n",
    "        i = i + 1\n",
    "if (count <= 2):\n",
    "     print(\"given number %2d is prime\"  %prime)\n",
    "else:\n",
    "     print(\"given number %2d is not prime\"  %prime)"
   ]
  },
  {
   "cell_type": "code",
   "execution_count": null,
   "id": "bdf0d64e",
   "metadata": {},
   "outputs": [],
   "source": [
    "Write a Python Program to Print all Prime Numbers in an Interval of 1-10000?"
   ]
  },
  {
   "cell_type": "code",
   "execution_count": 3,
   "id": "20bf7c99",
   "metadata": {},
   "outputs": [
    {
     "name": "stdout",
     "output_type": "stream",
     "text": [
      "prime no. between 1 to 10000 are:  [1, 2, 3, 5, 7, 11, 13, 17, 19, 23, 29, 31, 37, 41, 43, 47, 53, 59, 61, 67, 71, 73, 79, 83, 89, 97, 101, 103, 107, 109, 113, 127, 131, 137, 139, 149, 151, 157, 163, 167, 173, 179, 181, 191, 193, 197, 199, 211, 223, 227, 229, 233, 239, 241, 251, 257, 263, 269, 271, 277, 281, 283, 293, 307, 311, 313, 317, 331, 337, 347, 349, 353, 359, 367, 373, 379, 383, 389, 397, 401, 409, 419, 421, 431, 433, 439, 443, 449, 457, 461, 463, 467, 479, 487, 491, 499, 503, 509, 521, 523, 541, 547, 557, 563, 569, 571, 577, 587, 593, 599, 601, 607, 613, 617, 619, 631, 641, 643, 647, 653, 659, 661, 673, 677, 683, 691, 701, 709, 719, 727, 733, 739, 743, 751, 757, 761, 769, 773, 787, 797, 809, 811, 821, 823, 827, 829, 839, 853, 857, 859, 863, 877, 881, 883, 887, 907, 911, 919, 929, 937, 941, 947, 953, 967, 971, 977, 983, 991, 997, 1009, 1013, 1019, 1021, 1031, 1033, 1039, 1049, 1051, 1061, 1063, 1069, 1087, 1091, 1093, 1097, 1103, 1109, 1117, 1123, 1129, 1151, 1153, 1163, 1171, 1181, 1187, 1193, 1201, 1213, 1217, 1223, 1229, 1231, 1237, 1249, 1259, 1277, 1279, 1283, 1289, 1291, 1297, 1301, 1303, 1307, 1319, 1321, 1327, 1361, 1367, 1373, 1381, 1399, 1409, 1423, 1427, 1429, 1433, 1439, 1447, 1451, 1453, 1459, 1471, 1481, 1483, 1487, 1489, 1493, 1499, 1511, 1523, 1531, 1543, 1549, 1553, 1559, 1567, 1571, 1579, 1583, 1597, 1601, 1607, 1609, 1613, 1619, 1621, 1627, 1637, 1657, 1663, 1667, 1669, 1693, 1697, 1699, 1709, 1721, 1723, 1733, 1741, 1747, 1753, 1759, 1777, 1783, 1787, 1789, 1801, 1811, 1823, 1831, 1847, 1861, 1867, 1871, 1873, 1877, 1879, 1889, 1901, 1907, 1913, 1931, 1933, 1949, 1951, 1973, 1979, 1987, 1993, 1997, 1999, 2003, 2011, 2017, 2027, 2029, 2039, 2053, 2063, 2069, 2081, 2083, 2087, 2089, 2099, 2111, 2113, 2129, 2131, 2137, 2141, 2143, 2153, 2161, 2179, 2203, 2207, 2213, 2221, 2237, 2239, 2243, 2251, 2267, 2269, 2273, 2281, 2287, 2293, 2297, 2309, 2311, 2333, 2339, 2341, 2347, 2351, 2357, 2371, 2377, 2381, 2383, 2389, 2393, 2399, 2411, 2417, 2423, 2437, 2441, 2447, 2459, 2467, 2473, 2477, 2503, 2521, 2531, 2539, 2543, 2549, 2551, 2557, 2579, 2591, 2593, 2609, 2617, 2621, 2633, 2647, 2657, 2659, 2663, 2671, 2677, 2683, 2687, 2689, 2693, 2699, 2707, 2711, 2713, 2719, 2729, 2731, 2741, 2749, 2753, 2767, 2777, 2789, 2791, 2797, 2801, 2803, 2819, 2833, 2837, 2843, 2851, 2857, 2861, 2879, 2887, 2897, 2903, 2909, 2917, 2927, 2939, 2953, 2957, 2963, 2969, 2971, 2999, 3001, 3011, 3019, 3023, 3037, 3041, 3049, 3061, 3067, 3079, 3083, 3089, 3109, 3119, 3121, 3137, 3163, 3167, 3169, 3181, 3187, 3191, 3203, 3209, 3217, 3221, 3229, 3251, 3253, 3257, 3259, 3271, 3299, 3301, 3307, 3313, 3319, 3323, 3329, 3331, 3343, 3347, 3359, 3361, 3371, 3373, 3389, 3391, 3407, 3413, 3433, 3449, 3457, 3461, 3463, 3467, 3469, 3491, 3499, 3511, 3517, 3527, 3529, 3533, 3539, 3541, 3547, 3557, 3559, 3571, 3581, 3583, 3593, 3607, 3613, 3617, 3623, 3631, 3637, 3643, 3659, 3671, 3673, 3677, 3691, 3697, 3701, 3709, 3719, 3727, 3733, 3739, 3761, 3767, 3769, 3779, 3793, 3797, 3803, 3821, 3823, 3833, 3847, 3851, 3853, 3863, 3877, 3881, 3889, 3907, 3911, 3917, 3919, 3923, 3929, 3931, 3943, 3947, 3967, 3989, 4001, 4003, 4007, 4013, 4019, 4021, 4027, 4049, 4051, 4057, 4073, 4079, 4091, 4093, 4099, 4111, 4127, 4129, 4133, 4139, 4153, 4157, 4159, 4177, 4201, 4211, 4217, 4219, 4229, 4231, 4241, 4243, 4253, 4259, 4261, 4271, 4273, 4283, 4289, 4297, 4327, 4337, 4339, 4349, 4357, 4363, 4373, 4391, 4397, 4409, 4421, 4423, 4441, 4447, 4451, 4457, 4463, 4481, 4483, 4493, 4507, 4513, 4517, 4519, 4523, 4547, 4549, 4561, 4567, 4583, 4591, 4597, 4603, 4621, 4637, 4639, 4643, 4649, 4651, 4657, 4663, 4673, 4679, 4691, 4703, 4721, 4723, 4729, 4733, 4751, 4759, 4783, 4787, 4789, 4793, 4799, 4801, 4813, 4817, 4831, 4861, 4871, 4877, 4889, 4903, 4909, 4919, 4931, 4933, 4937, 4943, 4951, 4957, 4967, 4969, 4973, 4987, 4993, 4999, 5003, 5009, 5011, 5021, 5023, 5039, 5051, 5059, 5077, 5081, 5087, 5099, 5101, 5107, 5113, 5119, 5147, 5153, 5167, 5171, 5179, 5189, 5197, 5209, 5227, 5231, 5233, 5237, 5261, 5273, 5279, 5281, 5297, 5303, 5309, 5323, 5333, 5347, 5351, 5381, 5387, 5393, 5399, 5407, 5413, 5417, 5419, 5431, 5437, 5441, 5443, 5449, 5471, 5477, 5479, 5483, 5501, 5503, 5507, 5519, 5521, 5527, 5531, 5557, 5563, 5569, 5573, 5581, 5591, 5623, 5639, 5641, 5647, 5651, 5653, 5657, 5659, 5669, 5683, 5689, 5693, 5701, 5711, 5717, 5737, 5741, 5743, 5749, 5779, 5783, 5791, 5801, 5807, 5813, 5821, 5827, 5839, 5843, 5849, 5851, 5857, 5861, 5867, 5869, 5879, 5881, 5897, 5903, 5923, 5927, 5939, 5953, 5981, 5987, 6007, 6011, 6029, 6037, 6043, 6047, 6053, 6067, 6073, 6079, 6089, 6091, 6101, 6113, 6121, 6131, 6133, 6143, 6151, 6163, 6173, 6197, 6199, 6203, 6211, 6217, 6221, 6229, 6247, 6257, 6263, 6269, 6271, 6277, 6287, 6299, 6301, 6311, 6317, 6323, 6329, 6337, 6343, 6353, 6359, 6361, 6367, 6373, 6379, 6389, 6397, 6421, 6427, 6449, 6451, 6469, 6473, 6481, 6491, 6521, 6529, 6547, 6551, 6553, 6563, 6569, 6571, 6577, 6581, 6599, 6607, 6619, 6637, 6653, 6659, 6661, 6673, 6679, 6689, 6691, 6701, 6703, 6709, 6719, 6733, 6737, 6761, 6763, 6779, 6781, 6791, 6793, 6803, 6823, 6827, 6829, 6833, 6841, 6857, 6863, 6869, 6871, 6883, 6899, 6907, 6911, 6917, 6947, 6949, 6959, 6961, 6967, 6971, 6977, 6983, 6991, 6997, 7001, 7013, 7019, 7027, 7039, 7043, 7057, 7069, 7079, 7103, 7109, 7121, 7127, 7129, 7151, 7159, 7177, 7187, 7193, 7207, 7211, 7213, 7219, 7229, 7237, 7243, 7247, 7253, 7283, 7297, 7307, 7309, 7321, 7331, 7333, 7349, 7351, 7369, 7393, 7411, 7417, 7433, 7451, 7457, 7459, 7477, 7481, 7487, 7489, 7499, 7507, 7517, 7523, 7529, 7537, 7541, 7547, 7549, 7559, 7561, 7573, 7577, 7583, 7589, 7591, 7603, 7607, 7621, 7639, 7643, 7649, 7669, 7673, 7681, 7687, 7691, 7699, 7703, 7717, 7723, 7727, 7741, 7753, 7757, 7759, 7789, 7793, 7817, 7823, 7829, 7841, 7853, 7867, 7873, 7877, 7879, 7883, 7901, 7907, 7919, 7927, 7933, 7937, 7949, 7951, 7963, 7993, 8009, 8011, 8017, 8039, 8053, 8059, 8069, 8081, 8087, 8089, 8093, 8101, 8111, 8117, 8123, 8147, 8161, 8167, 8171, 8179, 8191, 8209, 8219, 8221, 8231, 8233, 8237, 8243, 8263, 8269, 8273, 8287, 8291, 8293, 8297, 8311, 8317, 8329, 8353, 8363, 8369, 8377, 8387, 8389, 8419, 8423, 8429, 8431, 8443, 8447, 8461, 8467, 8501, 8513, 8521, 8527, 8537, 8539, 8543, 8563, 8573, 8581, 8597, 8599, 8609, 8623, 8627, 8629, 8641, 8647, 8663, 8669, 8677, 8681, 8689, 8693, 8699, 8707, 8713, 8719, 8731, 8737, 8741, 8747, 8753, 8761, 8779, 8783, 8803, 8807, 8819, 8821, 8831, 8837, 8839, 8849, 8861, 8863, 8867, 8887, 8893, 8923, 8929, 8933, 8941, 8951, 8963, 8969, 8971, 8999, 9001, 9007, 9011, 9013, 9029, 9041, 9043, 9049, 9059, 9067, 9091, 9103, 9109, 9127, 9133, 9137, 9151, 9157, 9161, 9173, 9181, 9187, 9199, 9203, 9209, 9221, 9227, 9239, 9241, 9257, 9277, 9281, 9283, 9293, 9311, 9319, 9323, 9337, 9341, 9343, 9349, 9371, 9377, 9391, 9397, 9403, 9413, 9419, 9421, 9431, 9433, 9437, 9439, 9461, 9463, 9467, 9473, 9479, 9491, 9497, 9511, 9521, 9533, 9539, 9547, 9551, 9587, 9601, 9613, 9619, 9623, 9629, 9631, 9643, 9649, 9661, 9677, 9679, 9689, 9697, 9719, 9721, 9733, 9739, 9743, 9749, 9767, 9769, 9781, 9787, 9791, 9803, 9811, 9817, 9829, 9833, 9839, 9851, 9857, 9859, 9871, 9883, 9887, 9901, 9907, 9923, 9929, 9931, 9941, 9949, 9967, 9973]\n"
     ]
    }
   ],
   "source": [
    "l = []\n",
    "for i in range(1,10001):\n",
    "    count = 0\n",
    "    for j in range (1,i+1):\n",
    "        if (i%j == 0):\n",
    "            count = count + 1\n",
    "    if count <= 2:\n",
    "        l.append(i) \n",
    "print(\"prime no. between 1 to 10000 are: \", l)"
   ]
  },
  {
   "cell_type": "markdown",
   "id": "6a2a43a5",
   "metadata": {},
   "source": [
    "# Programming Assignment 4"
   ]
  },
  {
   "cell_type": "code",
   "execution_count": null,
   "id": "12cdcfbd",
   "metadata": {},
   "outputs": [],
   "source": [
    "Write a Python Program to Find the Factorial of a Number?"
   ]
  },
  {
   "cell_type": "code",
   "execution_count": 8,
   "id": "a97f2726",
   "metadata": {},
   "outputs": [
    {
     "name": "stdout",
     "output_type": "stream",
     "text": [
      "enter the number to find the factorial :5\n",
      "factorial of number 5 is 120 \n"
     ]
    }
   ],
   "source": [
    "n = int(input(\"enter the number to find the factorial :\"))\n",
    "for i in range(1,n+1):\n",
    "    fact = fact*i\n",
    "print(\"factorial of number %d is %d \"%(n,fact))"
   ]
  },
  {
   "cell_type": "code",
   "execution_count": null,
   "id": "a115c43c",
   "metadata": {},
   "outputs": [],
   "source": [
    "Write a Python Program to Display the multiplication Table?"
   ]
  },
  {
   "cell_type": "code",
   "execution_count": 12,
   "id": "06e90287",
   "metadata": {},
   "outputs": [
    {
     "name": "stdout",
     "output_type": "stream",
     "text": [
      "enter the number for which you want to display table: 6\n",
      "6 x 1 = 6\n",
      "6 x 2 = 12\n",
      "6 x 3 = 18\n",
      "6 x 4 = 24\n",
      "6 x 5 = 30\n",
      "6 x 6 = 36\n",
      "6 x 7 = 42\n",
      "6 x 8 = 48\n",
      "6 x 9 = 54\n",
      "6 x 10 = 60\n"
     ]
    }
   ],
   "source": [
    "num = int(input(\"enter the number for which you want to display table: \"))\n",
    "for i in range(1,11):\n",
    "    print(num, 'x' , i, '=' ,num*i)"
   ]
  },
  {
   "cell_type": "code",
   "execution_count": null,
   "id": "a8749da8",
   "metadata": {},
   "outputs": [],
   "source": [
    "Write a Python Program to Print the Fibonacci sequence?"
   ]
  },
  {
   "cell_type": "code",
   "execution_count": 3,
   "id": "0dc96ffb",
   "metadata": {},
   "outputs": [
    {
     "name": "stdout",
     "output_type": "stream",
     "text": [
      "enter user input :5\n",
      "0\n",
      "1\n",
      "1\n",
      "2\n",
      "3\n"
     ]
    }
   ],
   "source": [
    "#0 1 1 2 3 5 8....\n",
    "n = int(input(\"enter user input :\"))\n",
    "a = 0\n",
    "b = 1\n",
    "if n == 1:\n",
    "    print(a)\n",
    "else:\n",
    "    print(a)\n",
    "    print(b)\n",
    "    for i in range(2,n):\n",
    "        c = a + b\n",
    "        a = b\n",
    "        b = c\n",
    "        print(c)"
   ]
  },
  {
   "cell_type": "code",
   "execution_count": null,
   "id": "a58e24bc",
   "metadata": {},
   "outputs": [],
   "source": [
    "Write a Python Program to Check Armstrong Number?"
   ]
  },
  {
   "cell_type": "code",
   "execution_count": 6,
   "id": "d01438f1",
   "metadata": {},
   "outputs": [
    {
     "name": "stdout",
     "output_type": "stream",
     "text": [
      "enter user input :153\n",
      "number is armstrong\n"
     ]
    }
   ],
   "source": [
    "n = int(input(\"enter user input :\"))\n",
    "order = len(str(n))\n",
    "orig = n\n",
    "summ = 0\n",
    "while(n>0): \n",
    "    digit = n%10\n",
    "    summ = summ + digit ** order\n",
    "    n = n // 10\n",
    "if summ == orig:\n",
    "       print(\"number is armstrong\")"
   ]
  },
  {
   "cell_type": "code",
   "execution_count": null,
   "id": "23db7368",
   "metadata": {},
   "outputs": [],
   "source": [
    "Write a Python Program to Find Armstrong Number in an Interval?"
   ]
  },
  {
   "cell_type": "code",
   "execution_count": 2,
   "id": "bc7a1951",
   "metadata": {},
   "outputs": [
    {
     "name": "stdout",
     "output_type": "stream",
     "text": [
      "enter 1st interval1\n",
      "enter last inteval200\n",
      "Armstrong found  1\n",
      "Armstrong found  2\n",
      "Armstrong found  3\n",
      "Armstrong found  4\n",
      "Armstrong found  5\n",
      "Armstrong found  6\n",
      "Armstrong found  7\n",
      "Armstrong found  8\n",
      "Armstrong found  9\n",
      "Armstrong found  153\n"
     ]
    }
   ],
   "source": [
    "int1 = int(input(\"enter 1st interval\"))\n",
    "int2 = int(input(\"enter last inteval\"))\n",
    "for i in range(int1,int2 + 1):\n",
    "    order = len(str(i))\n",
    "    orig = i\n",
    "    summ = 0\n",
    "    temp = i\n",
    "    while(temp > 0):\n",
    "            digit = temp % 10\n",
    "            summ = summ + digit**order\n",
    "            temp = temp//10\n",
    "    if summ == orig:\n",
    "        print(\"Armstrong found \", i)\n",
    "          "
   ]
  },
  {
   "cell_type": "code",
   "execution_count": null,
   "id": "09559493",
   "metadata": {},
   "outputs": [],
   "source": [
    "Write a Python Program to Find the Sum of Natural Numbers?"
   ]
  },
  {
   "cell_type": "code",
   "execution_count": 7,
   "id": "7c524085",
   "metadata": {},
   "outputs": [
    {
     "name": "stdout",
     "output_type": "stream",
     "text": [
      "enter how many natural numbers to be summed up 7\n",
      "summ of first 7 natural numbers = 28 \n"
     ]
    }
   ],
   "source": [
    "nat = int(input(\"enter how many natural numbers to be summed up \"))\n",
    "summ = 0\n",
    "for i in range(1,nat + 1):\n",
    "    summ = summ + i\n",
    "print(\"summ of first %d natural numbers = %d \"%(nat,summ))"
   ]
  },
  {
   "cell_type": "markdown",
   "id": "8c242c0f",
   "metadata": {},
   "source": [
    "# Programming Assignment 5"
   ]
  },
  {
   "cell_type": "code",
   "execution_count": null,
   "id": "d5156e52",
   "metadata": {},
   "outputs": [],
   "source": [
    "Write a Python Program to Find LCM?"
   ]
  },
  {
   "cell_type": "code",
   "execution_count": 2,
   "id": "2fad1a36",
   "metadata": {},
   "outputs": [
    {
     "name": "stdout",
     "output_type": "stream",
     "text": [
      "Enter your input 1 -10\n",
      "Enter your input 2 -5\n",
      "LCM is  10\n"
     ]
    }
   ],
   "source": [
    "num1 = int(input(\"Enter your input 1 -\"))\n",
    "num2 = int(input(\"Enter your input 2 -\"))\n",
    "\n",
    "if num1 > num2:\n",
    "    greater = num1\n",
    "else:\n",
    "    greater = num2\n",
    "while(True):\n",
    "    if(greater%num1 == 0)and(greater%num2 == 0):\n",
    "        LCM = greater\n",
    "        break\n",
    "    greater = greater + 1\n",
    "print(\"LCM is \", greater)\n",
    "    "
   ]
  },
  {
   "cell_type": "code",
   "execution_count": null,
   "id": "00395f9b",
   "metadata": {},
   "outputs": [],
   "source": [
    "Write a Python Program to Find HCF?"
   ]
  },
  {
   "cell_type": "code",
   "execution_count": 9,
   "id": "ddbd1c78",
   "metadata": {},
   "outputs": [],
   "source": [
    "def GCD(a,b):\n",
    "    if b == 0:\n",
    "        return a\n",
    "    else:\n",
    "        return GCD(b,a%b)"
   ]
  },
  {
   "cell_type": "code",
   "execution_count": 10,
   "id": "71b28461",
   "metadata": {},
   "outputs": [
    {
     "name": "stdout",
     "output_type": "stream",
     "text": [
      "enter num1 :18\n",
      "enter num2 :4\n",
      "2\n"
     ]
    }
   ],
   "source": [
    "num1 = int(input(\"enter num1 :\"))\n",
    "num2 = int(input(\"enter num2 :\"))\n",
    "HCF = GCD(num1,num2)\n",
    "print(HCF)"
   ]
  },
  {
   "cell_type": "code",
   "execution_count": null,
   "id": "0e10b1a9",
   "metadata": {},
   "outputs": [],
   "source": [
    "Write a Python Program to Convert Decimal to Binary, Octal and Hexadecimal?"
   ]
  },
  {
   "cell_type": "code",
   "execution_count": null,
   "id": "5e0fc3e2",
   "metadata": {},
   "outputs": [],
   "source": [
    "d = int(input(\"Enter decimal value: \"))\n",
    "print(\"The decimal value of\", d, \"is:\")\n",
    "print(bin(d), \"in binary.\")\n",
    "print(oct(d), \"in octal.\")\n",
    "print(hex(d), \"in hexadecimal.\")"
   ]
  },
  {
   "cell_type": "code",
   "execution_count": null,
   "id": "e33487eb",
   "metadata": {},
   "outputs": [],
   "source": [
    "Write a Python Program To Find ASCII value of a character?"
   ]
  },
  {
   "cell_type": "code",
   "execution_count": null,
   "id": "df6db7ae",
   "metadata": {},
   "outputs": [],
   "source": [
    "ch = input(\"Enter the character A-Z,a-z: \")\n",
    "print(\"The ASCII value of '\" + ch + \"' is\", ord(ch))"
   ]
  },
  {
   "cell_type": "code",
   "execution_count": null,
   "id": "99335928",
   "metadata": {},
   "outputs": [],
   "source": [
    "Write a Python Program to Make a Simple Calculator with 4 basic mathematical operations?"
   ]
  },
  {
   "cell_type": "code",
   "execution_count": null,
   "id": "7d8e5d99",
   "metadata": {},
   "outputs": [],
   "source": [
    "def add(a,b):\n",
    "      try:\n",
    "        s = a + b\n",
    "        return s\n",
    "      except:\n",
    "        print(\"Incorrect sum\")\n",
    "def substract(a,b):\n",
    "    s = a - b\n",
    "    return s\n",
    "def multiply(a,b):\n",
    "    s = a * b\n",
    "    return s\n",
    "def divide(a,b):\n",
    "    try:\n",
    "        s = a/b\n",
    "        return s\n",
    "    except ZeroDivisionError:\n",
    "        print(\"Trying to divide by zero\")\n",
    "def userinput():\n",
    "    option = int(input(\"Enter '1' for sum :\\nEnter '2' for     substraction :\\nEnter '3' for multiply :\\nEnter '4' for division :\\nEnter '5' for finish\"))\n",
    "    return option\n",
    "def breakout():\n",
    "    print(\"Thank you\")\n",
    "    break\n",
    "\n",
    "try:\n",
    "    x = int(input(\"Enter first no: \"))\n",
    "    y = int(input(\"Enter second no: \"))\n",
    "    aa = userinput()\n",
    "    if aa == 1:\n",
    "        sum = add(x,y)\n",
    "        print(\"sum of number - \",sum)\n",
    "    elif aa == 2:\n",
    "        sub = substract(x,y)\n",
    "        print(\"sub of number - \",sub)\n",
    "    elif aa == 3:\n",
    "        mul = multiply(x,y)\n",
    "        print(\"mul of number - \",mul)\n",
    "    elif aa == 4:\n",
    "        div = divide(x,y)\n",
    "        print(\"divide of number - \",div)\n",
    "    elif aa == 5:\n",
    "        print(\"Thank YOu\") \n",
    "        breakout()\n",
    "    else:\n",
    "        print(\"Wrong input\")\n",
    "except Exception as e:\n",
    "    print(\"Enter a string value\",e)\n",
    "  \n",
    "    "
   ]
  },
  {
   "cell_type": "markdown",
   "id": "d674ed53",
   "metadata": {},
   "source": [
    "# Programming Assignment 6"
   ]
  },
  {
   "cell_type": "code",
   "execution_count": null,
   "id": "312bee7c",
   "metadata": {},
   "outputs": [],
   "source": [
    "Write a Python Program to Display Fibonacci Sequence Using Recursion?"
   ]
  },
  {
   "cell_type": "code",
   "execution_count": 3,
   "id": "e1eed1f0",
   "metadata": {},
   "outputs": [
    {
     "name": "stdout",
     "output_type": "stream",
     "text": [
      "enter a number for fibo sequence: 5\n",
      "0\n",
      "1\n",
      "1\n",
      "2\n",
      "3\n"
     ]
    }
   ],
   "source": [
    "def fibonacci(n):\n",
    "    if n <= 1:\n",
    "        return n\n",
    "    else:\n",
    "        return fibonacci(n - 1) + fibonacci(n - 2)\n",
    "num = int(input(\"enter a number for fibo sequence: \"))\n",
    "for i in range(num):\n",
    "    print(fibonacci(i))"
   ]
  },
  {
   "cell_type": "code",
   "execution_count": null,
   "id": "30200f82",
   "metadata": {},
   "outputs": [],
   "source": [
    "Write a Python Program to Find Factorial of Number Using Recursion?"
   ]
  },
  {
   "cell_type": "code",
   "execution_count": 6,
   "id": "07c0b4c8",
   "metadata": {},
   "outputs": [
    {
     "name": "stdout",
     "output_type": "stream",
     "text": [
      "enter a number for factorial : 5\n",
      "120\n"
     ]
    }
   ],
   "source": [
    "def factorial(n):\n",
    "    if n == 1:\n",
    "        return n\n",
    "    else:\n",
    "        return n * factorial(n - 1)\n",
    "num = int(input(\"enter a number for factorial : \"))\n",
    "if num == 0:\n",
    "    print(\"factorial of 0 is: %d\"%1 )\n",
    "else:\n",
    "    for i in range(1, num+1):\n",
    "             fact = factorial(i)\n",
    "print(fact)"
   ]
  },
  {
   "cell_type": "code",
   "execution_count": null,
   "id": "2bbc3091",
   "metadata": {},
   "outputs": [],
   "source": [
    "Write a Python Program to calculate your Body Mass Index?"
   ]
  },
  {
   "cell_type": "code",
   "execution_count": 16,
   "id": "b4905b77",
   "metadata": {},
   "outputs": [
    {
     "name": "stdout",
     "output_type": "stream",
     "text": [
      "enter weight of the body :76\n",
      "enter height of the body in meters :1.7\n",
      "the BMI of the body is :26.30\n",
      "overweight\n"
     ]
    }
   ],
   "source": [
    "weight = float(input(\"enter weight of the body :\")) \n",
    "height =float(input(\"enter height of the body in meters :\"))\n",
    "BMI = weight/(height**2)\n",
    "print(\"the BMI of the body is :%0.2f\"%BMI)\n",
    "if(BMI < 18.5):\n",
    "        print(\"underweight\")\n",
    " \n",
    "elif( BMI >= 18.5 and BMI < 24.9):\n",
    "        print(\"Healthy\")\n",
    " \n",
    "elif( BMI >= 24.9 and BMI < 30):\n",
    "        print(\"overweight\")\n",
    " \n",
    "elif( BMI >=30):\n",
    "        print(\"Suffering from Obesity\")\n"
   ]
  },
  {
   "cell_type": "code",
   "execution_count": null,
   "id": "9ffe7f81",
   "metadata": {},
   "outputs": [],
   "source": [
    "Write a Python Program to calculate the natural logarithm of any number?"
   ]
  },
  {
   "cell_type": "code",
   "execution_count": null,
   "id": "cc83d1f1",
   "metadata": {},
   "outputs": [],
   "source": [
    "import numpy as np\n",
    "a = [1,2,3,10,20,30]\n",
    "print(np.log(a))\n",
    "print(np.log(10))"
   ]
  },
  {
   "cell_type": "code",
   "execution_count": null,
   "id": "4e1b6de5",
   "metadata": {},
   "outputs": [],
   "source": [
    "Write a Python Program for cube sum of first n natural numbers?"
   ]
  },
  {
   "cell_type": "code",
   "execution_count": null,
   "id": "c87df8cb",
   "metadata": {},
   "outputs": [],
   "source": [
    "def sumnum(n):\n",
    "    cubesum = 0\n",
    "    for i in range(1,n+1):\n",
    "        cubesum = cubesum + i**3\n",
    "    return cubesum\n",
    "num = int(input(\"Enter Nth Natural No: \"))\n",
    "summer = sumnum(num)\n",
    "print(\"%d is the sum of cube of first %d natural no.\"%(summer,num))\n"
   ]
  },
  {
   "cell_type": "markdown",
   "id": "97f9ec9e",
   "metadata": {},
   "source": [
    "# Programming Assignment 7"
   ]
  },
  {
   "cell_type": "code",
   "execution_count": null,
   "id": "c7684ea6",
   "metadata": {},
   "outputs": [],
   "source": [
    "Write a Python Program to find sum of array?"
   ]
  },
  {
   "cell_type": "code",
   "execution_count": null,
   "id": "15dca3f4",
   "metadata": {},
   "outputs": [],
   "source": [
    "def sumnum(num):\n",
    "    summ = 0\n",
    "    for i in num:\n",
    "        summ = i + summ\n",
    "    return summ\n",
    "number = [100, 200, 300, 10, 111, 1000]\n",
    "summer = sumnum(number)\n",
    "print(\"%d is the summation of list\"%(summer))"
   ]
  },
  {
   "cell_type": "code",
   "execution_count": null,
   "id": "23a4e67b",
   "metadata": {},
   "outputs": [],
   "source": [
    "Write a Python Program to find largest element in an array?"
   ]
  },
  {
   "cell_type": "code",
   "execution_count": null,
   "id": "bd750af7",
   "metadata": {},
   "outputs": [],
   "source": [
    "number = [100, 200, 300, 10, 111, 1000]\n",
    "largest_number = number[0]\n",
    "for i in number:\n",
    "    if i > largest_number:\n",
    "        largest_number = i\n",
    "print(largest_number)"
   ]
  },
  {
   "cell_type": "code",
   "execution_count": null,
   "id": "03d9a5d2",
   "metadata": {},
   "outputs": [],
   "source": [
    "Write a Python Program for array rotation?"
   ]
  },
  {
   "cell_type": "code",
   "execution_count": null,
   "id": "0f84490e",
   "metadata": {},
   "outputs": [],
   "source": [
    "def rotate(arr,d):\n",
    "    n = len(arr)\n",
    "    temp = []\n",
    "    for i in range(d,n+1):\n",
    "          temp.append(i)\n",
    "    for i in range(0,d):\n",
    "          temp.append(i)\n",
    "    return temp\n",
    "arr = [1,2,3,4,5,6]\n",
    "rot = rotate(arr,2)\n",
    "print(rot)"
   ]
  },
  {
   "cell_type": "code",
   "execution_count": null,
   "id": "b8b8bf3f",
   "metadata": {},
   "outputs": [],
   "source": [
    "Write a Python Program to Split the array and add the first part to the end?"
   ]
  },
  {
   "cell_type": "code",
   "execution_count": null,
   "id": "48558ed9",
   "metadata": {},
   "outputs": [],
   "source": [
    "a = [1,2,3,10,20,30]\n",
    "length = len(a)\n",
    "half = int(length/2)\n",
    "print(length,half)\n",
    "x = []\n",
    "if (length % 2 == 0):\n",
    "    for i in range(0,half):\n",
    "        sum = a[i] + a[i + half]\n",
    "        x.append(sum)\n",
    "    print(x)\n",
    "else:\n",
    "    print(\"array is odd , add 1 more element to array\")"
   ]
  },
  {
   "cell_type": "code",
   "execution_count": null,
   "id": "0b8640d8",
   "metadata": {},
   "outputs": [],
   "source": [
    "Write a Python Program to check if given array is Monotonic?"
   ]
  },
  {
   "cell_type": "code",
   "execution_count": null,
   "id": "f208c258",
   "metadata": {},
   "outputs": [],
   "source": [
    "def mono(a):\n",
    "  \n",
    "    return (all(a[i] <= a[i + 1] for i in range(len(a) - 1)) or\n",
    "            all(a[i] >= a[i + 1] for i in range(len(a) - 1)))\n",
    "b = [1, 3, 44, 54]\n",
    "print(mono(b))"
   ]
  },
  {
   "cell_type": "markdown",
   "id": "3c9c27cc",
   "metadata": {},
   "source": [
    "# Programming Assignment 8"
   ]
  },
  {
   "cell_type": "code",
   "execution_count": null,
   "id": "7c119c90",
   "metadata": {},
   "outputs": [],
   "source": [
    "Write a Python Program to Add Two Matrices?"
   ]
  },
  {
   "cell_type": "code",
   "execution_count": null,
   "id": "1697566a",
   "metadata": {},
   "outputs": [],
   "source": [
    "x= [[1,1,1],[2,2,2],[3,3,3]]\n",
    "y= [[1,1,1],[2,2,2],[3,3,3]]\n",
    "sum= [[0,0,0],[0,0,0],[0,0,0]]\n",
    "for i in range(len(x)):\n",
    "    for j in range(len(x[0])):\n",
    "        sum[i][j] =  x[i][j] + y[i][j]\n",
    "print(sum)"
   ]
  },
  {
   "cell_type": "code",
   "execution_count": null,
   "id": "b1556cd3",
   "metadata": {},
   "outputs": [],
   "source": [
    "Write a Python Program to Multiply Two Matrices?"
   ]
  },
  {
   "cell_type": "code",
   "execution_count": null,
   "id": "b7018201",
   "metadata": {},
   "outputs": [],
   "source": [
    "x= [[1,1,1],[2,2,2],[3,3,3]]\n",
    "y= [[1,1,1],[2,2,2],[3,3,3]]\n",
    "pdt= [[1,1,1],[1,1,1],[1,1,1]]\n",
    "for i in range(len(x)):\n",
    "    for j in range(len(x[0])):\n",
    "        pdt[i][j] =  x[i][j] * y[i][j]\n",
    "print(pdt)"
   ]
  },
  {
   "cell_type": "code",
   "execution_count": null,
   "id": "e939383d",
   "metadata": {},
   "outputs": [],
   "source": [
    "Write a Python Program to Transpose a Matrix?"
   ]
  },
  {
   "cell_type": "code",
   "execution_count": null,
   "id": "4b74f51f",
   "metadata": {},
   "outputs": [],
   "source": [
    "x= [[1,1],\n",
    "    [2,2],\n",
    "    [3,3]]\n",
    "pdt= [[0,0,0],[0,0,0]]\n",
    "for i in range(len(x)):\n",
    "    for j in range(len(x[0])):\n",
    "        pdt[j][i] =  x[i][j] \n",
    "print(pdt)"
   ]
  },
  {
   "cell_type": "code",
   "execution_count": null,
   "id": "5e6cda99",
   "metadata": {},
   "outputs": [],
   "source": [
    "Write a Python Program to Sort Words in Alphabetic Order?"
   ]
  },
  {
   "cell_type": "code",
   "execution_count": null,
   "id": "c8f027da",
   "metadata": {},
   "outputs": [],
   "source": [
    "x = ['this','is','a','cat']\n",
    "x.sort()\n",
    "print(x)"
   ]
  },
  {
   "cell_type": "code",
   "execution_count": null,
   "id": "7b1f7811",
   "metadata": {},
   "outputs": [],
   "source": [
    "Write a Python Program to Remove Punctuation From a String?"
   ]
  },
  {
   "cell_type": "code",
   "execution_count": null,
   "id": "e16b4d8a",
   "metadata": {},
   "outputs": [],
   "source": [
    "pun = '''!()-[]{};:'\"\\,<>./?@#$%^&*_~'''\n",
    "string = \"This is [] ,<>my?@wo#rld\"\n",
    "new_string = ' '\n",
    "for i in string:\n",
    "    if i not in pun:\n",
    "         new_string = new_string + i\n",
    "print(new_string)"
   ]
  },
  {
   "cell_type": "markdown",
   "id": "665d884e",
   "metadata": {},
   "source": [
    "# Programming Assignment 9"
   ]
  },
  {
   "cell_type": "code",
   "execution_count": null,
   "id": "5b446250",
   "metadata": {},
   "outputs": [],
   "source": [
    "Write a Python program to check if the given number is a Disarium Number?"
   ]
  },
  {
   "cell_type": "code",
   "execution_count": null,
   "id": "145771c7",
   "metadata": {},
   "outputs": [],
   "source": [
    "num = input(\"Enter user input: \")\n",
    "power = len(num)\n",
    "temp = int(num)\n",
    "summ = 0\n",
    "while temp!=0:\n",
    "        x=temp%10\n",
    "       # print('x',x)\n",
    "        summ = summ + x**power\n",
    "       # print(\"summ\",x,summ)\n",
    "        temp=temp//10\n",
    "        power = power - 1\n",
    "if summ == int(num):       \n",
    "    print(\"Disarium num found :\", num)\n",
    "else: print(\"Disarium not found\")"
   ]
  },
  {
   "cell_type": "code",
   "execution_count": null,
   "id": "587396d1",
   "metadata": {},
   "outputs": [],
   "source": [
    "Write a Python program to print all disarium numbers between 1 to 100?"
   ]
  },
  {
   "cell_type": "code",
   "execution_count": 3,
   "id": "44cee062",
   "metadata": {},
   "outputs": [
    {
     "name": "stdout",
     "output_type": "stream",
     "text": [
      "Disarium num found btn 1-100 : 1\n",
      "Disarium num found btn 1-100 : 2\n",
      "Disarium num found btn 1-100 : 3\n",
      "Disarium num found btn 1-100 : 4\n",
      "Disarium num found btn 1-100 : 5\n",
      "Disarium num found btn 1-100 : 6\n",
      "Disarium num found btn 1-100 : 7\n",
      "Disarium num found btn 1-100 : 8\n",
      "Disarium num found btn 1-100 : 9\n",
      "Disarium num found btn 1-100 : 89\n"
     ]
    }
   ],
   "source": [
    "for i in range(1,101):\n",
    "        num = str(i)\n",
    "        power = len(num)\n",
    "        temp = int(num)\n",
    "        summ = 0\n",
    "        while temp!=0:\n",
    "                x=temp%10\n",
    "                summ = summ + x**power\n",
    "                temp=temp//10\n",
    "                power = power - 1\n",
    "        if summ == int(num):\n",
    "            print(\"Disarium num found btn 1-100 :\", num)"
   ]
  },
  {
   "cell_type": "code",
   "execution_count": null,
   "id": "d0ced04d",
   "metadata": {},
   "outputs": [],
   "source": [
    "Write a Python program to check if the given number is Happy Number?"
   ]
  },
  {
   "cell_type": "code",
   "execution_count": null,
   "id": "ae03949f",
   "metadata": {},
   "outputs": [],
   "source": [
    "def summsquare(temp):\n",
    "    summ = 0\n",
    "    while temp!=0:\n",
    "        x=temp%10\n",
    "        summ = summ + x**2\n",
    "        temp=temp//10\n",
    "    return summ \n",
    "\n",
    "n = int(input(\"Enter value :\"))\n",
    "num = n\n",
    "seen = []\n",
    "seen.append(n)\n",
    "x = False\n",
    "while summsquare(n) not in seen:\n",
    "      sumreturned = summsquare(n)\n",
    "        if sumreturned == 1:\n",
    "            print(\"Happy no. Found\",num)\n",
    "            x = True\n",
    "            break\n",
    "        else:\n",
    "            seen.append(sumreturned)\n",
    "            n = sumreturned\n",
    "if x == False:\n",
    "    print(\"Not a Happy number\", num)"
   ]
  },
  {
   "cell_type": "code",
   "execution_count": null,
   "id": "864a49a4",
   "metadata": {},
   "outputs": [],
   "source": [
    "Write a Python program to print all happy numbers between 1 and 100?"
   ]
  },
  {
   "cell_type": "code",
   "execution_count": null,
   "id": "2e1481f9",
   "metadata": {},
   "outputs": [],
   "source": [
    "def summsquare(temp):\n",
    "    summ = 0\n",
    "    while temp!=0:\n",
    "            x=temp%10\n",
    "            summ = summ + x**2\n",
    "            temp=temp//10\n",
    "    return summ \n",
    "\n",
    "#n = int(input(\"Enter value :\"))\n",
    "for i in range(1,101):\n",
    "    num = i\n",
    "    seen = []\n",
    "    seen.append(i)\n",
    "    while summsquare(i) not in seen:\n",
    "        sumreturned = summsquare(i)\n",
    "        if sumreturned == 1:\n",
    "            print(\"Happy no. Found\",num)\n",
    "            break\n",
    "        else:\n",
    "            seen.append(sumreturned)\n",
    "            i = sumreturned"
   ]
  },
  {
   "cell_type": "code",
   "execution_count": null,
   "id": "a836fda5",
   "metadata": {},
   "outputs": [],
   "source": [
    "Write a Python program to determine whether the given number is a Harshad Number?"
   ]
  },
  {
   "cell_type": "code",
   "execution_count": null,
   "id": "688d4c8f",
   "metadata": {},
   "outputs": [],
   "source": [
    "def summdigit(temp):\n",
    "    summ = 0\n",
    "    while temp!=0:\n",
    "        x=temp%10\n",
    "        summ = summ + x\n",
    "        temp=temp//10\n",
    "    return summ \n",
    "\n",
    "n = int(input(\"Enter value :\"))\n",
    "s = summdigit(n)\n",
    "if n%s==0:\n",
    "     print(\"Harshad no. Found\",n)\n",
    "else:\n",
    "     print(\"the no. is not Harshad\",n)"
   ]
  },
  {
   "cell_type": "code",
   "execution_count": null,
   "id": "c1f1c47a",
   "metadata": {},
   "outputs": [],
   "source": [
    "Write a Python program to print all pronic numbers between 1 and 100?"
   ]
  },
  {
   "cell_type": "code",
   "execution_count": null,
   "id": "ceb53d25",
   "metadata": {},
   "outputs": [],
   "source": [
    "def summdigit(temp):\n",
    "    summ = 0\n",
    "    while temp!=0:\n",
    "        x=temp%10\n",
    "        summ = summ + x\n",
    "        temp=temp//10\n",
    "    return summ \n",
    "\n",
    "#n = int(input(\"Enter value :\"))\n",
    "for i in range(1,101):\n",
    "    num = i\n",
    "    s = summdigit(i)\n",
    "    if i%s==0:\n",
    "        print(\"Harshad no. Found\",i)"
   ]
  },
  {
   "cell_type": "markdown",
   "id": "f0967a66",
   "metadata": {},
   "source": [
    "# Programming Assignment 10"
   ]
  },
  {
   "cell_type": "code",
   "execution_count": null,
   "id": "bd1ed73f",
   "metadata": {},
   "outputs": [],
   "source": [
    "Write a Python program to find sum of elements in list?"
   ]
  },
  {
   "cell_type": "code",
   "execution_count": null,
   "id": "03ee481d",
   "metadata": {},
   "outputs": [],
   "source": [
    "def sumnum(num):\n",
    "    summ = 0\n",
    "    for i in num:\n",
    "        summ = i + summ\n",
    "    return summ\n",
    "number = [100, 200, 300, 10, 111, 1000]\n",
    "summer = sumnum(number)\n",
    "print(\"%d is the summation of list\"%(summer))"
   ]
  },
  {
   "cell_type": "code",
   "execution_count": null,
   "id": "a752ebb0",
   "metadata": {},
   "outputs": [],
   "source": [
    "Write a Python program to Multiply all numbers in the list?"
   ]
  },
  {
   "cell_type": "code",
   "execution_count": null,
   "id": "21f04b79",
   "metadata": {},
   "outputs": [],
   "source": [
    "def multiplynum(num):\n",
    "    multiply = 1\n",
    "    for i in num:\n",
    "         multiply = i * multiply\n",
    "    return multiply\n",
    "number = [100, 200, 300, 10, 111, 1000]\n",
    "mul = multiplynum(number)\n",
    "print(\"%d is the multiplication of list\"%(mul))"
   ]
  },
  {
   "cell_type": "code",
   "execution_count": null,
   "id": "a67218c3",
   "metadata": {},
   "outputs": [],
   "source": [
    "Write a Python program to find smallest number in a list?"
   ]
  },
  {
   "cell_type": "code",
   "execution_count": null,
   "id": "8a18f8de",
   "metadata": {},
   "outputs": [],
   "source": [
    "number = [100, 200, 300, 10,10, 111, 1000]\n",
    "smallest_number = number[0]\n",
    "for i in number:\n",
    "    if i < smallest_number:\n",
    "        smallest_number = i\n",
    "print(smallest_number)"
   ]
  },
  {
   "cell_type": "code",
   "execution_count": null,
   "id": "11f6ae69",
   "metadata": {},
   "outputs": [],
   "source": [
    "Write a Python program to find largest number in a list?"
   ]
  },
  {
   "cell_type": "code",
   "execution_count": null,
   "id": "5abcb9cf",
   "metadata": {},
   "outputs": [],
   "source": [
    "number = [100, 200, 300, 10, 111, 1000]\n",
    "largest_number = number[0]\n",
    "for i in number:\n",
    "    if i > largest_number:\n",
    "        largest_number = i\n",
    "print(largest_number)"
   ]
  },
  {
   "cell_type": "code",
   "execution_count": null,
   "id": "7afb9aa8",
   "metadata": {},
   "outputs": [],
   "source": [
    "Write a Python program to find second largest number in a list?"
   ]
  },
  {
   "cell_type": "code",
   "execution_count": null,
   "id": "c1ca5125",
   "metadata": {},
   "outputs": [],
   "source": [
    "def Nlargestnum(num):\n",
    "    num.sort(reverse=True)\n",
    "    print#x = nu(N+1)\n",
    "    return num[1]  \n",
    "number = [100, 200, 300, 10, 111, 1000]\n",
    "sec = Nlargestnum(number)\n",
    "print(\"%d is the second highest number in list\"%(sec))"
   ]
  },
  {
   "cell_type": "code",
   "execution_count": null,
   "id": "2d13d69a",
   "metadata": {},
   "outputs": [],
   "source": [
    "Write a Python program to find N largest elements from a list?"
   ]
  },
  {
   "cell_type": "code",
   "execution_count": null,
   "id": "546e982b",
   "metadata": {},
   "outputs": [],
   "source": [
    "def Nlargestnum(num,N):\n",
    "    num.sort(reverse=True)\n",
    "    print#x = nu(N+1)\n",
    "    return num[N-1]  \n",
    "N = int(input(\"Enter The Nth Value:\"))\n",
    "number = [100, 200, 300, 10, 111, 1000]\n",
    "Lar = Nlargestnum(number,N)\n",
    "print(\"%d is the %d highest number in list\"%(Lar,N))"
   ]
  },
  {
   "cell_type": "code",
   "execution_count": null,
   "id": "8a14139b",
   "metadata": {},
   "outputs": [],
   "source": [
    "Write a Python program to print even numbers in a list?"
   ]
  },
  {
   "cell_type": "code",
   "execution_count": null,
   "id": "f4df3563",
   "metadata": {},
   "outputs": [],
   "source": [
    "def listcopy(new_list):\n",
    "    even = []\n",
    "    for i in new_list:\n",
    "        if (i%2 == 0):\n",
    "            even.append(i)   \n",
    "    return even\n",
    "given_list = [1,2,3,4,5]\n",
    "even_list = listcopy(given_list)\n",
    "print(\"list of even number \",even_list)"
   ]
  },
  {
   "cell_type": "code",
   "execution_count": null,
   "id": "40bb91d0",
   "metadata": {},
   "outputs": [],
   "source": [
    "Write a Python program to print odd numbers in a List?"
   ]
  },
  {
   "cell_type": "code",
   "execution_count": null,
   "id": "30280bd0",
   "metadata": {},
   "outputs": [],
   "source": [
    "def listcopy(new_list):\n",
    "    odd = []\n",
    "    for i in new_list:\n",
    "        if (i%2 != 0):\n",
    "            odd.append(i)   \n",
    "    return odd\n",
    "given_list = [1,2,3,4,5]\n",
    "odd_list = listcopy(given_list)\n",
    "print(\"list of odd number \",odd_list)"
   ]
  },
  {
   "cell_type": "code",
   "execution_count": null,
   "id": "7634076b",
   "metadata": {},
   "outputs": [],
   "source": [
    "Write a Python program to Remove empty List from List?"
   ]
  },
  {
   "cell_type": "code",
   "execution_count": null,
   "id": "f546e83a",
   "metadata": {},
   "outputs": [],
   "source": [
    "def listcopy(new_list):\n",
    "    for i in new_list:\n",
    "        if type(i) == list and len(i) == 0:\n",
    "            new_list.remove(i)   \n",
    "    return new_list\n",
    "given_list = [1,2,[],3,[],4,5]\n",
    "clean_list = listcopy(given_list)\n",
    "print(\"after removing empty list \",clean_list)"
   ]
  },
  {
   "cell_type": "code",
   "execution_count": null,
   "id": "b66bf4d9",
   "metadata": {},
   "outputs": [],
   "source": [
    "Write a Python program to Cloning or Copying a list?"
   ]
  },
  {
   "cell_type": "code",
   "execution_count": null,
   "id": "2f7b46c4",
   "metadata": {},
   "outputs": [],
   "source": [
    "def listcopy(copy):\n",
    "    cloned_list = copy\n",
    "    return cloned_list,copy"
   ]
  },
  {
   "cell_type": "code",
   "execution_count": null,
   "id": "313691a7",
   "metadata": {},
   "outputs": [],
   "source": [
    "copy = [1,2,3,4,5]\n",
    "cloned_list,copy = listcopy(copy)\n",
    "print(\"Copied list:{1} \"cloned_list)"
   ]
  },
  {
   "cell_type": "code",
   "execution_count": null,
   "id": "bd78b8ac",
   "metadata": {},
   "outputs": [],
   "source": [
    "Write a Python program to Count occurrences of an element in a list?"
   ]
  },
  {
   "cell_type": "code",
   "execution_count": null,
   "id": "be1f9849",
   "metadata": {},
   "outputs": [],
   "source": [
    "ele = input(\"Enter The Alphabet to be Searched \")\n",
    "listele = ['a','b','c','d','e','a']\n",
    "count = 0\n",
    "for i in listele:\n",
    "     if i == ele:\n",
    "        count = count + 1\n",
    "print (\"Occurence of element %s in list is %d: \"%(ele,count))"
   ]
  },
  {
   "cell_type": "code",
   "execution_count": null,
   "id": "e5dbe416",
   "metadata": {},
   "outputs": [],
   "source": []
  },
  {
   "cell_type": "code",
   "execution_count": null,
   "id": "6d8f2dd9",
   "metadata": {},
   "outputs": [],
   "source": []
  }
 ],
 "metadata": {
  "kernelspec": {
   "display_name": "Python 3 (ipykernel)",
   "language": "python",
   "name": "python3"
  },
  "language_info": {
   "codemirror_mode": {
    "name": "ipython",
    "version": 3
   },
   "file_extension": ".py",
   "mimetype": "text/x-python",
   "name": "python",
   "nbconvert_exporter": "python",
   "pygments_lexer": "ipython3",
   "version": "3.9.7"
  }
 },
 "nbformat": 4,
 "nbformat_minor": 5
}
